{
  "nbformat": 4,
  "nbformat_minor": 0,
  "metadata": {
    "colab": {
      "provenance": [],
      "include_colab_link": true
    },
    "kernelspec": {
      "name": "python3",
      "display_name": "Python 3"
    },
    "language_info": {
      "name": "python"
    },
    "widgets": {
      "application/vnd.jupyter.widget-state+json": {
        "b2b59dbf6e114fd79bceb94489c936c4": {
          "model_module": "@jupyter-widgets/output",
          "model_name": "OutputModel",
          "model_module_version": "1.0.0",
          "state": {
            "_dom_classes": [],
            "_model_module": "@jupyter-widgets/output",
            "_model_module_version": "1.0.0",
            "_model_name": "OutputModel",
            "_view_count": null,
            "_view_module": "@jupyter-widgets/output",
            "_view_module_version": "1.0.0",
            "_view_name": "OutputView",
            "layout": "IPY_MODEL_9bbbf74f0b774064bb707e946f3f7c6d",
            "msg_id": "",
            "outputs": [
              {
                "output_type": "display_data",
                "data": {
                  "text/plain": "Downloading \u001b[38;2;114;156;31m━━━━━━━━━━━━━━━━━━━━━━━━━━━━━━━━━━━━━━━━\u001b[0m \u001b[35m100%\u001b[0m \u001b[36m0:00:00\u001b[0m\n",
                  "text/html": "<pre style=\"white-space:pre;overflow-x:auto;line-height:normal;font-family:Menlo,'DejaVu Sans Mono',consolas,'Courier New',monospace\">Downloading <span style=\"color: #729c1f; text-decoration-color: #729c1f\">━━━━━━━━━━━━━━━━━━━━━━━━━━━━━━━━━━━━━━━━</span> <span style=\"color: #800080; text-decoration-color: #800080\">100%</span> <span style=\"color: #008080; text-decoration-color: #008080\">0:00:00</span>\n</pre>\n"
                },
                "metadata": {}
              }
            ]
          }
        },
        "9bbbf74f0b774064bb707e946f3f7c6d": {
          "model_module": "@jupyter-widgets/base",
          "model_name": "LayoutModel",
          "model_module_version": "1.2.0",
          "state": {
            "_model_module": "@jupyter-widgets/base",
            "_model_module_version": "1.2.0",
            "_model_name": "LayoutModel",
            "_view_count": null,
            "_view_module": "@jupyter-widgets/base",
            "_view_module_version": "1.2.0",
            "_view_name": "LayoutView",
            "align_content": null,
            "align_items": null,
            "align_self": null,
            "border": null,
            "bottom": null,
            "display": null,
            "flex": null,
            "flex_flow": null,
            "grid_area": null,
            "grid_auto_columns": null,
            "grid_auto_flow": null,
            "grid_auto_rows": null,
            "grid_column": null,
            "grid_gap": null,
            "grid_row": null,
            "grid_template_areas": null,
            "grid_template_columns": null,
            "grid_template_rows": null,
            "height": null,
            "justify_content": null,
            "justify_items": null,
            "left": null,
            "margin": null,
            "max_height": null,
            "max_width": null,
            "min_height": null,
            "min_width": null,
            "object_fit": null,
            "object_position": null,
            "order": null,
            "overflow": null,
            "overflow_x": null,
            "overflow_y": null,
            "padding": null,
            "right": null,
            "top": null,
            "visibility": null,
            "width": null
          }
        }
      }
    }
  },
  "cells": [
    {
      "cell_type": "markdown",
      "metadata": {
        "id": "view-in-github",
        "colab_type": "text"
      },
      "source": [
        "<a href=\"https://colab.research.google.com/github/baiju012/Practice/blob/main/practice.ipynb\" target=\"_parent\"><img src=\"https://colab.research.google.com/assets/colab-badge.svg\" alt=\"Open In Colab\"/></a>"
      ]
    },
    {
      "cell_type": "code",
      "execution_count": null,
      "metadata": {
        "id": "7K6Vzem9kR-I",
        "outputId": "2524ab3c-1bac-4a3e-96c3-d6c830a6f165",
        "colab": {
          "base_uri": "https://localhost:8080/"
        }
      },
      "outputs": [
        {
          "output_type": "stream",
          "name": "stdout",
          "text": [
            "7\n"
          ]
        }
      ],
      "source": [
        "def add(a, b=4):\n",
        "    return (a+b)\n",
        "\n",
        "\n",
        "print(add( 4,3))\n"
      ]
    },
    {
      "cell_type": "code",
      "source": [
        "#first shold be defult than agrument\n",
        "def add(a=4, b):\n",
        "  return (a+b)\n",
        "\n",
        "print(add(4,2))"
      ],
      "metadata": {
        "id": "sKT2w4_tk-3X"
      },
      "execution_count": null,
      "outputs": []
    },
    {
      "cell_type": "code",
      "source": [
        "!pip install plotly"
      ],
      "metadata": {
        "id": "fE5indJz4jwQ",
        "outputId": "7a453296-4df5-444b-8bfe-4b4eeec36f2d",
        "colab": {
          "base_uri": "https://localhost:8080/"
        }
      },
      "execution_count": null,
      "outputs": [
        {
          "output_type": "stream",
          "name": "stdout",
          "text": [
            "Requirement already satisfied: plotly in /usr/local/lib/python3.10/dist-packages (5.24.1)\n",
            "Requirement already satisfied: tenacity>=6.2.0 in /usr/local/lib/python3.10/dist-packages (from plotly) (9.0.0)\n",
            "Requirement already satisfied: packaging in /usr/local/lib/python3.10/dist-packages (from plotly) (24.1)\n"
          ]
        }
      ]
    },
    {
      "cell_type": "markdown",
      "source": [
        "Sunburst Chart"
      ],
      "metadata": {
        "id": "DP4R7XZl6AIq"
      }
    },
    {
      "cell_type": "code",
      "source": [
        "import plotly.graph_objects as go\n",
        "data = {'id': [\"A\",\"B\",\"C\"],\n",
        "        'parent': [\"\",\"A\",\"A\"],\n",
        "        'value':[10,12,5]}\n",
        "\n",
        "fig = go.Figure(go.Sunburst(\n",
        "            labels = data['id'],\n",
        "            parents=data['parent'],\n",
        "            values=data['value']\n",
        "        ))\n",
        "\n",
        "fig.update_layout(title_text = \"Sunburst Chart\")\n",
        "fig.show()"
      ],
      "metadata": {
        "id": "wF3_qvVs4VxY",
        "outputId": "50449a11-23f7-4d38-e535-7af1d50c4345",
        "colab": {
          "base_uri": "https://localhost:8080/",
          "height": 542
        }
      },
      "execution_count": null,
      "outputs": [
        {
          "output_type": "display_data",
          "data": {
            "text/html": [
              "<html>\n",
              "<head><meta charset=\"utf-8\" /></head>\n",
              "<body>\n",
              "    <div>            <script src=\"https://cdnjs.cloudflare.com/ajax/libs/mathjax/2.7.5/MathJax.js?config=TeX-AMS-MML_SVG\"></script><script type=\"text/javascript\">if (window.MathJax && window.MathJax.Hub && window.MathJax.Hub.Config) {window.MathJax.Hub.Config({SVG: {font: \"STIX-Web\"}});}</script>                <script type=\"text/javascript\">window.PlotlyConfig = {MathJaxConfig: 'local'};</script>\n",
              "        <script charset=\"utf-8\" src=\"https://cdn.plot.ly/plotly-2.35.2.min.js\"></script>                <div id=\"130c7239-8b93-4f75-8699-a56d6a2efc45\" class=\"plotly-graph-div\" style=\"height:525px; width:100%;\"></div>            <script type=\"text/javascript\">                                    window.PLOTLYENV=window.PLOTLYENV || {};                                    if (document.getElementById(\"130c7239-8b93-4f75-8699-a56d6a2efc45\")) {                    Plotly.newPlot(                        \"130c7239-8b93-4f75-8699-a56d6a2efc45\",                        [{\"labels\":[\"A\",\"B\",\"C\"],\"parents\":[\"\",\"A\",\"A\"],\"values\":[10,12,5],\"type\":\"sunburst\"}],                        {\"template\":{\"data\":{\"histogram2dcontour\":[{\"type\":\"histogram2dcontour\",\"colorbar\":{\"outlinewidth\":0,\"ticks\":\"\"},\"colorscale\":[[0.0,\"#0d0887\"],[0.1111111111111111,\"#46039f\"],[0.2222222222222222,\"#7201a8\"],[0.3333333333333333,\"#9c179e\"],[0.4444444444444444,\"#bd3786\"],[0.5555555555555556,\"#d8576b\"],[0.6666666666666666,\"#ed7953\"],[0.7777777777777778,\"#fb9f3a\"],[0.8888888888888888,\"#fdca26\"],[1.0,\"#f0f921\"]]}],\"choropleth\":[{\"type\":\"choropleth\",\"colorbar\":{\"outlinewidth\":0,\"ticks\":\"\"}}],\"histogram2d\":[{\"type\":\"histogram2d\",\"colorbar\":{\"outlinewidth\":0,\"ticks\":\"\"},\"colorscale\":[[0.0,\"#0d0887\"],[0.1111111111111111,\"#46039f\"],[0.2222222222222222,\"#7201a8\"],[0.3333333333333333,\"#9c179e\"],[0.4444444444444444,\"#bd3786\"],[0.5555555555555556,\"#d8576b\"],[0.6666666666666666,\"#ed7953\"],[0.7777777777777778,\"#fb9f3a\"],[0.8888888888888888,\"#fdca26\"],[1.0,\"#f0f921\"]]}],\"heatmap\":[{\"type\":\"heatmap\",\"colorbar\":{\"outlinewidth\":0,\"ticks\":\"\"},\"colorscale\":[[0.0,\"#0d0887\"],[0.1111111111111111,\"#46039f\"],[0.2222222222222222,\"#7201a8\"],[0.3333333333333333,\"#9c179e\"],[0.4444444444444444,\"#bd3786\"],[0.5555555555555556,\"#d8576b\"],[0.6666666666666666,\"#ed7953\"],[0.7777777777777778,\"#fb9f3a\"],[0.8888888888888888,\"#fdca26\"],[1.0,\"#f0f921\"]]}],\"heatmapgl\":[{\"type\":\"heatmapgl\",\"colorbar\":{\"outlinewidth\":0,\"ticks\":\"\"},\"colorscale\":[[0.0,\"#0d0887\"],[0.1111111111111111,\"#46039f\"],[0.2222222222222222,\"#7201a8\"],[0.3333333333333333,\"#9c179e\"],[0.4444444444444444,\"#bd3786\"],[0.5555555555555556,\"#d8576b\"],[0.6666666666666666,\"#ed7953\"],[0.7777777777777778,\"#fb9f3a\"],[0.8888888888888888,\"#fdca26\"],[1.0,\"#f0f921\"]]}],\"contourcarpet\":[{\"type\":\"contourcarpet\",\"colorbar\":{\"outlinewidth\":0,\"ticks\":\"\"}}],\"contour\":[{\"type\":\"contour\",\"colorbar\":{\"outlinewidth\":0,\"ticks\":\"\"},\"colorscale\":[[0.0,\"#0d0887\"],[0.1111111111111111,\"#46039f\"],[0.2222222222222222,\"#7201a8\"],[0.3333333333333333,\"#9c179e\"],[0.4444444444444444,\"#bd3786\"],[0.5555555555555556,\"#d8576b\"],[0.6666666666666666,\"#ed7953\"],[0.7777777777777778,\"#fb9f3a\"],[0.8888888888888888,\"#fdca26\"],[1.0,\"#f0f921\"]]}],\"surface\":[{\"type\":\"surface\",\"colorbar\":{\"outlinewidth\":0,\"ticks\":\"\"},\"colorscale\":[[0.0,\"#0d0887\"],[0.1111111111111111,\"#46039f\"],[0.2222222222222222,\"#7201a8\"],[0.3333333333333333,\"#9c179e\"],[0.4444444444444444,\"#bd3786\"],[0.5555555555555556,\"#d8576b\"],[0.6666666666666666,\"#ed7953\"],[0.7777777777777778,\"#fb9f3a\"],[0.8888888888888888,\"#fdca26\"],[1.0,\"#f0f921\"]]}],\"mesh3d\":[{\"type\":\"mesh3d\",\"colorbar\":{\"outlinewidth\":0,\"ticks\":\"\"}}],\"scatter\":[{\"fillpattern\":{\"fillmode\":\"overlay\",\"size\":10,\"solidity\":0.2},\"type\":\"scatter\"}],\"parcoords\":[{\"type\":\"parcoords\",\"line\":{\"colorbar\":{\"outlinewidth\":0,\"ticks\":\"\"}}}],\"scatterpolargl\":[{\"type\":\"scatterpolargl\",\"marker\":{\"colorbar\":{\"outlinewidth\":0,\"ticks\":\"\"}}}],\"bar\":[{\"error_x\":{\"color\":\"#2a3f5f\"},\"error_y\":{\"color\":\"#2a3f5f\"},\"marker\":{\"line\":{\"color\":\"#E5ECF6\",\"width\":0.5},\"pattern\":{\"fillmode\":\"overlay\",\"size\":10,\"solidity\":0.2}},\"type\":\"bar\"}],\"scattergeo\":[{\"type\":\"scattergeo\",\"marker\":{\"colorbar\":{\"outlinewidth\":0,\"ticks\":\"\"}}}],\"scatterpolar\":[{\"type\":\"scatterpolar\",\"marker\":{\"colorbar\":{\"outlinewidth\":0,\"ticks\":\"\"}}}],\"histogram\":[{\"marker\":{\"pattern\":{\"fillmode\":\"overlay\",\"size\":10,\"solidity\":0.2}},\"type\":\"histogram\"}],\"scattergl\":[{\"type\":\"scattergl\",\"marker\":{\"colorbar\":{\"outlinewidth\":0,\"ticks\":\"\"}}}],\"scatter3d\":[{\"type\":\"scatter3d\",\"line\":{\"colorbar\":{\"outlinewidth\":0,\"ticks\":\"\"}},\"marker\":{\"colorbar\":{\"outlinewidth\":0,\"ticks\":\"\"}}}],\"scattermapbox\":[{\"type\":\"scattermapbox\",\"marker\":{\"colorbar\":{\"outlinewidth\":0,\"ticks\":\"\"}}}],\"scatterternary\":[{\"type\":\"scatterternary\",\"marker\":{\"colorbar\":{\"outlinewidth\":0,\"ticks\":\"\"}}}],\"scattercarpet\":[{\"type\":\"scattercarpet\",\"marker\":{\"colorbar\":{\"outlinewidth\":0,\"ticks\":\"\"}}}],\"carpet\":[{\"aaxis\":{\"endlinecolor\":\"#2a3f5f\",\"gridcolor\":\"white\",\"linecolor\":\"white\",\"minorgridcolor\":\"white\",\"startlinecolor\":\"#2a3f5f\"},\"baxis\":{\"endlinecolor\":\"#2a3f5f\",\"gridcolor\":\"white\",\"linecolor\":\"white\",\"minorgridcolor\":\"white\",\"startlinecolor\":\"#2a3f5f\"},\"type\":\"carpet\"}],\"table\":[{\"cells\":{\"fill\":{\"color\":\"#EBF0F8\"},\"line\":{\"color\":\"white\"}},\"header\":{\"fill\":{\"color\":\"#C8D4E3\"},\"line\":{\"color\":\"white\"}},\"type\":\"table\"}],\"barpolar\":[{\"marker\":{\"line\":{\"color\":\"#E5ECF6\",\"width\":0.5},\"pattern\":{\"fillmode\":\"overlay\",\"size\":10,\"solidity\":0.2}},\"type\":\"barpolar\"}],\"pie\":[{\"automargin\":true,\"type\":\"pie\"}]},\"layout\":{\"autotypenumbers\":\"strict\",\"colorway\":[\"#636efa\",\"#EF553B\",\"#00cc96\",\"#ab63fa\",\"#FFA15A\",\"#19d3f3\",\"#FF6692\",\"#B6E880\",\"#FF97FF\",\"#FECB52\"],\"font\":{\"color\":\"#2a3f5f\"},\"hovermode\":\"closest\",\"hoverlabel\":{\"align\":\"left\"},\"paper_bgcolor\":\"white\",\"plot_bgcolor\":\"#E5ECF6\",\"polar\":{\"bgcolor\":\"#E5ECF6\",\"angularaxis\":{\"gridcolor\":\"white\",\"linecolor\":\"white\",\"ticks\":\"\"},\"radialaxis\":{\"gridcolor\":\"white\",\"linecolor\":\"white\",\"ticks\":\"\"}},\"ternary\":{\"bgcolor\":\"#E5ECF6\",\"aaxis\":{\"gridcolor\":\"white\",\"linecolor\":\"white\",\"ticks\":\"\"},\"baxis\":{\"gridcolor\":\"white\",\"linecolor\":\"white\",\"ticks\":\"\"},\"caxis\":{\"gridcolor\":\"white\",\"linecolor\":\"white\",\"ticks\":\"\"}},\"coloraxis\":{\"colorbar\":{\"outlinewidth\":0,\"ticks\":\"\"}},\"colorscale\":{\"sequential\":[[0.0,\"#0d0887\"],[0.1111111111111111,\"#46039f\"],[0.2222222222222222,\"#7201a8\"],[0.3333333333333333,\"#9c179e\"],[0.4444444444444444,\"#bd3786\"],[0.5555555555555556,\"#d8576b\"],[0.6666666666666666,\"#ed7953\"],[0.7777777777777778,\"#fb9f3a\"],[0.8888888888888888,\"#fdca26\"],[1.0,\"#f0f921\"]],\"sequentialminus\":[[0.0,\"#0d0887\"],[0.1111111111111111,\"#46039f\"],[0.2222222222222222,\"#7201a8\"],[0.3333333333333333,\"#9c179e\"],[0.4444444444444444,\"#bd3786\"],[0.5555555555555556,\"#d8576b\"],[0.6666666666666666,\"#ed7953\"],[0.7777777777777778,\"#fb9f3a\"],[0.8888888888888888,\"#fdca26\"],[1.0,\"#f0f921\"]],\"diverging\":[[0,\"#8e0152\"],[0.1,\"#c51b7d\"],[0.2,\"#de77ae\"],[0.3,\"#f1b6da\"],[0.4,\"#fde0ef\"],[0.5,\"#f7f7f7\"],[0.6,\"#e6f5d0\"],[0.7,\"#b8e186\"],[0.8,\"#7fbc41\"],[0.9,\"#4d9221\"],[1,\"#276419\"]]},\"xaxis\":{\"gridcolor\":\"white\",\"linecolor\":\"white\",\"ticks\":\"\",\"title\":{\"standoff\":15},\"zerolinecolor\":\"white\",\"automargin\":true,\"zerolinewidth\":2},\"yaxis\":{\"gridcolor\":\"white\",\"linecolor\":\"white\",\"ticks\":\"\",\"title\":{\"standoff\":15},\"zerolinecolor\":\"white\",\"automargin\":true,\"zerolinewidth\":2},\"scene\":{\"xaxis\":{\"backgroundcolor\":\"#E5ECF6\",\"gridcolor\":\"white\",\"linecolor\":\"white\",\"showbackground\":true,\"ticks\":\"\",\"zerolinecolor\":\"white\",\"gridwidth\":2},\"yaxis\":{\"backgroundcolor\":\"#E5ECF6\",\"gridcolor\":\"white\",\"linecolor\":\"white\",\"showbackground\":true,\"ticks\":\"\",\"zerolinecolor\":\"white\",\"gridwidth\":2},\"zaxis\":{\"backgroundcolor\":\"#E5ECF6\",\"gridcolor\":\"white\",\"linecolor\":\"white\",\"showbackground\":true,\"ticks\":\"\",\"zerolinecolor\":\"white\",\"gridwidth\":2}},\"shapedefaults\":{\"line\":{\"color\":\"#2a3f5f\"}},\"annotationdefaults\":{\"arrowcolor\":\"#2a3f5f\",\"arrowhead\":0,\"arrowwidth\":1},\"geo\":{\"bgcolor\":\"white\",\"landcolor\":\"#E5ECF6\",\"subunitcolor\":\"white\",\"showland\":true,\"showlakes\":true,\"lakecolor\":\"white\"},\"title\":{\"x\":0.05},\"mapbox\":{\"style\":\"light\"}}},\"title\":{\"text\":\"Sunburst Chart\"}},                        {\"responsive\": true}                    ).then(function(){\n",
              "                            \n",
              "var gd = document.getElementById('130c7239-8b93-4f75-8699-a56d6a2efc45');\n",
              "var x = new MutationObserver(function (mutations, observer) {{\n",
              "        var display = window.getComputedStyle(gd).display;\n",
              "        if (!display || display === 'none') {{\n",
              "            console.log([gd, 'removed!']);\n",
              "            Plotly.purge(gd);\n",
              "            observer.disconnect();\n",
              "        }}\n",
              "}});\n",
              "\n",
              "// Listen for the removal of the full notebook cells\n",
              "var notebookContainer = gd.closest('#notebook-container');\n",
              "if (notebookContainer) {{\n",
              "    x.observe(notebookContainer, {childList: true});\n",
              "}}\n",
              "\n",
              "// Listen for the clearing of the current output cell\n",
              "var outputEl = gd.closest('.output');\n",
              "if (outputEl) {{\n",
              "    x.observe(outputEl, {childList: true});\n",
              "}}\n",
              "\n",
              "                        })                };                            </script>        </div>\n",
              "</body>\n",
              "</html>"
            ]
          },
          "metadata": {}
        }
      ]
    },
    {
      "cell_type": "markdown",
      "source": [
        "Derivatives in Python any function"
      ],
      "metadata": {
        "id": "RkVa2GkO66Zq"
      }
    },
    {
      "cell_type": "code",
      "source": [
        "import sympy as sym\n",
        "x = sym.Symbol('x')\n",
        "func = input(\"enter the Function : \")\n",
        "sym.Derivative(func,x)\n"
      ],
      "metadata": {
        "id": "DJ7TNggl4mO7",
        "outputId": "c6dad011-01da-4924-a7ca-de39fcfe21c2",
        "colab": {
          "base_uri": "https://localhost:8080/",
          "height": 69
        }
      },
      "execution_count": null,
      "outputs": [
        {
          "name": "stdout",
          "output_type": "stream",
          "text": [
            "enter the Function : 1/x**2\n"
          ]
        },
        {
          "output_type": "execute_result",
          "data": {
            "text/plain": [
              "Derivative(x**(-2), x)"
            ],
            "text/latex": "$\\displaystyle \\frac{d}{d x} \\frac{1}{x^{2}}$"
          },
          "metadata": {},
          "execution_count": 16
        }
      ]
    },
    {
      "cell_type": "code",
      "source": [
        "sym.Derivative(func , x, evaluate = True)"
      ],
      "metadata": {
        "id": "JRu03P2g6Zuc",
        "outputId": "869327fe-4e88-4d29-abb9-fe012317e27d",
        "colab": {
          "base_uri": "https://localhost:8080/",
          "height": 51
        }
      },
      "execution_count": null,
      "outputs": [
        {
          "output_type": "execute_result",
          "data": {
            "text/plain": [
              "-2/x**3"
            ],
            "text/latex": "$\\displaystyle - \\frac{2}{x^{3}}$"
          },
          "metadata": {},
          "execution_count": 17
        }
      ]
    },
    {
      "cell_type": "code",
      "source": [
        "import geopandas as gpd\n",
        "import matplotlib.pyplot as plt\n",
        "world = gpd.read_file('naturalearth_lowres')\n",
        "\n",
        "world.plot(edgecolor = 'red')\n",
        "plt.title(\"world Map with Country Borders\")\n",
        "plt.show()"
      ],
      "metadata": {
        "id": "IN9ReecM63-a",
        "outputId": "a67771c2-e5d7-4b37-d5b0-6f443a2f0c99",
        "colab": {
          "base_uri": "https://localhost:8080/",
          "height": 425
        }
      },
      "execution_count": null,
      "outputs": [
        {
          "output_type": "error",
          "ename": "DataSourceError",
          "evalue": "naturalearth_lowres: No such file or directory",
          "traceback": [
            "\u001b[0;31m---------------------------------------------------------------------------\u001b[0m",
            "\u001b[0;31mDataSourceError\u001b[0m                           Traceback (most recent call last)",
            "\u001b[0;32m<ipython-input-20-d288c378a760>\u001b[0m in \u001b[0;36m<cell line: 3>\u001b[0;34m()\u001b[0m\n\u001b[1;32m      1\u001b[0m \u001b[0;32mimport\u001b[0m \u001b[0mgeopandas\u001b[0m \u001b[0;32mas\u001b[0m \u001b[0mgpd\u001b[0m\u001b[0;34m\u001b[0m\u001b[0;34m\u001b[0m\u001b[0m\n\u001b[1;32m      2\u001b[0m \u001b[0;32mimport\u001b[0m \u001b[0mmatplotlib\u001b[0m\u001b[0;34m.\u001b[0m\u001b[0mpyplot\u001b[0m \u001b[0;32mas\u001b[0m \u001b[0mplt\u001b[0m\u001b[0;34m\u001b[0m\u001b[0;34m\u001b[0m\u001b[0m\n\u001b[0;32m----> 3\u001b[0;31m \u001b[0mworld\u001b[0m \u001b[0;34m=\u001b[0m \u001b[0mgpd\u001b[0m\u001b[0;34m.\u001b[0m\u001b[0mread_file\u001b[0m\u001b[0;34m(\u001b[0m\u001b[0;34m'naturalearth_lowres'\u001b[0m\u001b[0;34m)\u001b[0m\u001b[0;34m\u001b[0m\u001b[0;34m\u001b[0m\u001b[0m\n\u001b[0m\u001b[1;32m      4\u001b[0m \u001b[0;34m\u001b[0m\u001b[0m\n\u001b[1;32m      5\u001b[0m \u001b[0mworld\u001b[0m\u001b[0;34m.\u001b[0m\u001b[0mplot\u001b[0m\u001b[0;34m(\u001b[0m\u001b[0medgecolor\u001b[0m \u001b[0;34m=\u001b[0m \u001b[0;34m'red'\u001b[0m\u001b[0;34m)\u001b[0m\u001b[0;34m\u001b[0m\u001b[0;34m\u001b[0m\u001b[0m\n",
            "\u001b[0;32m/usr/local/lib/python3.10/dist-packages/geopandas/io/file.py\u001b[0m in \u001b[0;36m_read_file\u001b[0;34m(filename, bbox, mask, columns, rows, engine, **kwargs)\u001b[0m\n\u001b[1;32m    292\u001b[0m \u001b[0;34m\u001b[0m\u001b[0m\n\u001b[1;32m    293\u001b[0m     \u001b[0;32mif\u001b[0m \u001b[0mengine\u001b[0m \u001b[0;34m==\u001b[0m \u001b[0;34m\"pyogrio\"\u001b[0m\u001b[0;34m:\u001b[0m\u001b[0;34m\u001b[0m\u001b[0;34m\u001b[0m\u001b[0m\n\u001b[0;32m--> 294\u001b[0;31m         return _read_file_pyogrio(\n\u001b[0m\u001b[1;32m    295\u001b[0m             \u001b[0mfilename\u001b[0m\u001b[0;34m,\u001b[0m \u001b[0mbbox\u001b[0m\u001b[0;34m=\u001b[0m\u001b[0mbbox\u001b[0m\u001b[0;34m,\u001b[0m \u001b[0mmask\u001b[0m\u001b[0;34m=\u001b[0m\u001b[0mmask\u001b[0m\u001b[0;34m,\u001b[0m \u001b[0mcolumns\u001b[0m\u001b[0;34m=\u001b[0m\u001b[0mcolumns\u001b[0m\u001b[0;34m,\u001b[0m \u001b[0mrows\u001b[0m\u001b[0;34m=\u001b[0m\u001b[0mrows\u001b[0m\u001b[0;34m,\u001b[0m \u001b[0;34m**\u001b[0m\u001b[0mkwargs\u001b[0m\u001b[0;34m\u001b[0m\u001b[0;34m\u001b[0m\u001b[0m\n\u001b[1;32m    296\u001b[0m         )\n",
            "\u001b[0;32m/usr/local/lib/python3.10/dist-packages/geopandas/io/file.py\u001b[0m in \u001b[0;36m_read_file_pyogrio\u001b[0;34m(path_or_bytes, bbox, mask, rows, **kwargs)\u001b[0m\n\u001b[1;32m    545\u001b[0m         \u001b[0mkwargs\u001b[0m\u001b[0;34m[\u001b[0m\u001b[0;34m\"columns\"\u001b[0m\u001b[0;34m]\u001b[0m \u001b[0;34m=\u001b[0m \u001b[0mkwargs\u001b[0m\u001b[0;34m.\u001b[0m\u001b[0mpop\u001b[0m\u001b[0;34m(\u001b[0m\u001b[0;34m\"include_fields\"\u001b[0m\u001b[0;34m)\u001b[0m\u001b[0;34m\u001b[0m\u001b[0;34m\u001b[0m\u001b[0m\n\u001b[1;32m    546\u001b[0m \u001b[0;34m\u001b[0m\u001b[0m\n\u001b[0;32m--> 547\u001b[0;31m     \u001b[0;32mreturn\u001b[0m \u001b[0mpyogrio\u001b[0m\u001b[0;34m.\u001b[0m\u001b[0mread_dataframe\u001b[0m\u001b[0;34m(\u001b[0m\u001b[0mpath_or_bytes\u001b[0m\u001b[0;34m,\u001b[0m \u001b[0mbbox\u001b[0m\u001b[0;34m=\u001b[0m\u001b[0mbbox\u001b[0m\u001b[0;34m,\u001b[0m \u001b[0;34m**\u001b[0m\u001b[0mkwargs\u001b[0m\u001b[0;34m)\u001b[0m\u001b[0;34m\u001b[0m\u001b[0;34m\u001b[0m\u001b[0m\n\u001b[0m\u001b[1;32m    548\u001b[0m \u001b[0;34m\u001b[0m\u001b[0m\n\u001b[1;32m    549\u001b[0m \u001b[0;34m\u001b[0m\u001b[0m\n",
            "\u001b[0;32m/usr/local/lib/python3.10/dist-packages/pyogrio/geopandas.py\u001b[0m in \u001b[0;36mread_dataframe\u001b[0;34m(path_or_buffer, layer, encoding, columns, read_geometry, force_2d, skip_features, max_features, where, bbox, mask, fids, sql, sql_dialect, fid_as_index, use_arrow, on_invalid, arrow_to_pandas_kwargs, **kwargs)\u001b[0m\n\u001b[1;32m    263\u001b[0m         \u001b[0;31m# as numpy does not directly support timezones.\u001b[0m\u001b[0;34m\u001b[0m\u001b[0;34m\u001b[0m\u001b[0m\n\u001b[1;32m    264\u001b[0m         \u001b[0mkwargs\u001b[0m\u001b[0;34m[\u001b[0m\u001b[0;34m\"datetime_as_string\"\u001b[0m\u001b[0;34m]\u001b[0m \u001b[0;34m=\u001b[0m \u001b[0;32mTrue\u001b[0m\u001b[0;34m\u001b[0m\u001b[0;34m\u001b[0m\u001b[0m\n\u001b[0;32m--> 265\u001b[0;31m     result = read_func(\n\u001b[0m\u001b[1;32m    266\u001b[0m         \u001b[0mpath_or_buffer\u001b[0m\u001b[0;34m,\u001b[0m\u001b[0;34m\u001b[0m\u001b[0;34m\u001b[0m\u001b[0m\n\u001b[1;32m    267\u001b[0m         \u001b[0mlayer\u001b[0m\u001b[0;34m=\u001b[0m\u001b[0mlayer\u001b[0m\u001b[0;34m,\u001b[0m\u001b[0;34m\u001b[0m\u001b[0;34m\u001b[0m\u001b[0m\n",
            "\u001b[0;32m/usr/local/lib/python3.10/dist-packages/pyogrio/raw.py\u001b[0m in \u001b[0;36mread\u001b[0;34m(path_or_buffer, layer, encoding, columns, read_geometry, force_2d, skip_features, max_features, where, bbox, mask, fids, sql, sql_dialect, return_fids, datetime_as_string, **kwargs)\u001b[0m\n\u001b[1;32m    196\u001b[0m     \u001b[0mdataset_kwargs\u001b[0m \u001b[0;34m=\u001b[0m \u001b[0m_preprocess_options_key_value\u001b[0m\u001b[0;34m(\u001b[0m\u001b[0mkwargs\u001b[0m\u001b[0;34m)\u001b[0m \u001b[0;32mif\u001b[0m \u001b[0mkwargs\u001b[0m \u001b[0;32melse\u001b[0m \u001b[0;34m{\u001b[0m\u001b[0;34m}\u001b[0m\u001b[0;34m\u001b[0m\u001b[0;34m\u001b[0m\u001b[0m\n\u001b[1;32m    197\u001b[0m \u001b[0;34m\u001b[0m\u001b[0m\n\u001b[0;32m--> 198\u001b[0;31m     return ogr_read(\n\u001b[0m\u001b[1;32m    199\u001b[0m         \u001b[0mget_vsi_path_or_buffer\u001b[0m\u001b[0;34m(\u001b[0m\u001b[0mpath_or_buffer\u001b[0m\u001b[0;34m)\u001b[0m\u001b[0;34m,\u001b[0m\u001b[0;34m\u001b[0m\u001b[0;34m\u001b[0m\u001b[0m\n\u001b[1;32m    200\u001b[0m         \u001b[0mlayer\u001b[0m\u001b[0;34m=\u001b[0m\u001b[0mlayer\u001b[0m\u001b[0;34m,\u001b[0m\u001b[0;34m\u001b[0m\u001b[0;34m\u001b[0m\u001b[0m\n",
            "\u001b[0;32mpyogrio/_io.pyx\u001b[0m in \u001b[0;36mpyogrio._io.ogr_read\u001b[0;34m()\u001b[0m\n",
            "\u001b[0;32mpyogrio/_io.pyx\u001b[0m in \u001b[0;36mpyogrio._io.ogr_open\u001b[0;34m()\u001b[0m\n",
            "\u001b[0;31mDataSourceError\u001b[0m: naturalearth_lowres: No such file or directory"
          ]
        }
      ]
    },
    {
      "cell_type": "code",
      "source": [
        "import periodictable\n",
        "\n",
        "Atomic_no = int(input(\"enter the atomic number : \"))\n",
        "\n",
        "element = periodictable.elements[Atomic_no]\n",
        "print('Name',element.name)\n",
        "print('Symobl', element.symbol)\n",
        "print('Atomic Number', element.density)\n",
        "print('Atomic Weight', element.mass)"
      ],
      "metadata": {
        "colab": {
          "base_uri": "https://localhost:8080/"
        },
        "id": "OWXs4O061TIX",
        "outputId": "a437cba1-5a95-49ac-fc09-a79b330b5562"
      },
      "execution_count": null,
      "outputs": [
        {
          "output_type": "stream",
          "name": "stdout",
          "text": [
            "enter the atomic number : 23\n",
            "Name vanadium\n",
            "Symobl V\n",
            "Atomic Number 6.11\n",
            "Atomic Weight 50.9415\n"
          ]
        }
      ]
    },
    {
      "cell_type": "code",
      "source": [
        "import pyshorteners\n",
        "long_url = input(\"enter the long url : \")\n",
        "type_tiny = pyshorteners.Shortener()\n",
        "short_url = type_tiny.tinyurl.short(long_url)\n",
        "print(\"The shortened url is :\" + short_url)\n"
      ],
      "metadata": {
        "id": "uFjqRA2m72fI",
        "colab": {
          "base_uri": "https://localhost:8080/"
        },
        "outputId": "2915db3e-4d1a-47ba-a720-f3ff9c1ad7ef"
      },
      "execution_count": null,
      "outputs": [
        {
          "output_type": "stream",
          "name": "stdout",
          "text": [
            "enter the long url : https://github.com/baiju012\n",
            "The shortened url is :https://tinyurl.com/24m9bdaf\n"
          ]
        }
      ]
    },
    {
      "cell_type": "code",
      "source": [
        "from rich.progress import Progress\n",
        "\n",
        "import time\n",
        "with Progress() as progress:\n",
        "    # task1 = progress.add_task(\"Task 1\", total=10)\n",
        "    # task2 = progress.add_task(\"Task 2\", total=10)\n",
        "    task = progress.add_task(\"Downloading\", total=100)\n",
        "\n",
        "\n",
        "    while not progress.finished:\n",
        "        progress.update(task, advance=1)\n",
        "        time.sleep(0.3)"
      ],
      "metadata": {
        "colab": {
          "base_uri": "https://localhost:8080/",
          "height": 33,
          "referenced_widgets": [
            "b2b59dbf6e114fd79bceb94489c936c4",
            "9bbbf74f0b774064bb707e946f3f7c6d"
          ]
        },
        "id": "JmVRG4Z31Ydb",
        "outputId": "f789578e-3f11-48eb-d887-63e67144477c"
      },
      "execution_count": null,
      "outputs": [
        {
          "output_type": "display_data",
          "data": {
            "text/plain": [
              "Output()"
            ],
            "application/vnd.jupyter.widget-view+json": {
              "version_major": 2,
              "version_minor": 0,
              "model_id": "b2b59dbf6e114fd79bceb94489c936c4"
            }
          },
          "metadata": {}
        },
        {
          "output_type": "display_data",
          "data": {
            "text/plain": [],
            "text/html": [
              "<pre style=\"white-space:pre;overflow-x:auto;line-height:normal;font-family:Menlo,'DejaVu Sans Mono',consolas,'Courier New',monospace\"></pre>\n"
            ]
          },
          "metadata": {}
        }
      ]
    },
    {
      "cell_type": "code",
      "source": [
        "import pubchempy as pcp\n",
        "\n",
        "chemical_name = input(\"enter the chemical name : \")\n",
        "try:\n",
        "  compound = pcp.get_compounds(chemical_name, 'name')[0]\n",
        "  print(f\"IPUAC Name : {compound.iupac_name}\")\n",
        "  print(f\"Common Name: {compound.synonyms[0]}\")\n",
        "  print(f\"Molecular Formula : {compound.molecular_formula}\")\n",
        "  print(f\"Molecular Weight : {compound.molecular_weight}\")\n",
        "\n",
        "except IndexError:\n",
        "  print(f\"No information found for  {chemical_name}\")\n"
      ],
      "metadata": {
        "colab": {
          "base_uri": "https://localhost:8080/"
        },
        "id": "EDyZOHsNzeA3",
        "outputId": "85542b43-1005-4a63-df0c-416f2e9eedec"
      },
      "execution_count": null,
      "outputs": [
        {
          "output_type": "stream",
          "name": "stdout",
          "text": [
            "enter the chemical name : methon\n",
            "IPUAC Name : 5,5-dimethylcyclohexane-1,3-dione\n",
            "Common Name: Dimedone\n",
            "Molecular Formula : C8H12O2\n",
            "Molecular Weight : 140.18\n"
          ]
        }
      ]
    },
    {
      "cell_type": "code",
      "source": [
        "import qrcode\n",
        "from PIL import Image\n",
        "\n",
        "\n",
        "data = input(\"Enter anything to generate Qr\")\n",
        "qr = qrcode.QRCode(version = 1, box_size = 10, border = 5)\n",
        "qr.add_data(data)\n",
        "qr.make(fit = True)\n",
        "image = qr.make_image(fill = 'black', back_color = 'white')\n",
        "image.save('qr.png' )\n",
        "Image.open('qr.png')"
      ],
      "metadata": {
        "id": "d2IpTR163HBf"
      },
      "execution_count": null,
      "outputs": []
    },
    {
      "cell_type": "code",
      "source": [
        "!pip install imdbpy"
      ],
      "metadata": {
        "id": "2rvWq4716cwL",
        "outputId": "d8aca124-10c5-4bad-9a50-0739c0623dda",
        "colab": {
          "base_uri": "https://localhost:8080/"
        }
      },
      "execution_count": null,
      "outputs": [
        {
          "output_type": "stream",
          "name": "stdout",
          "text": [
            "Collecting imdbpy\n",
            "  Downloading IMDbPY-2022.7.9-py3-none-any.whl.metadata (498 bytes)\n",
            "Collecting cinemagoer (from imdbpy)\n",
            "  Downloading cinemagoer-2023.5.1-py3-none-any.whl.metadata (2.9 kB)\n",
            "Requirement already satisfied: SQLAlchemy in /usr/local/lib/python3.10/dist-packages (from cinemagoer->imdbpy) (2.0.36)\n",
            "Requirement already satisfied: lxml in /usr/local/lib/python3.10/dist-packages (from cinemagoer->imdbpy) (5.3.0)\n",
            "Requirement already satisfied: typing-extensions>=4.6.0 in /usr/local/lib/python3.10/dist-packages (from SQLAlchemy->cinemagoer->imdbpy) (4.12.2)\n",
            "Requirement already satisfied: greenlet!=0.4.17 in /usr/local/lib/python3.10/dist-packages (from SQLAlchemy->cinemagoer->imdbpy) (3.1.1)\n",
            "Downloading IMDbPY-2022.7.9-py3-none-any.whl (1.2 kB)\n",
            "Downloading cinemagoer-2023.5.1-py3-none-any.whl (297 kB)\n",
            "\u001b[2K   \u001b[90m━━━━━━━━━━━━━━━━━━━━━━━━━━━━━━━━━━━━━━━━\u001b[0m \u001b[32m297.2/297.2 kB\u001b[0m \u001b[31m4.7 MB/s\u001b[0m eta \u001b[36m0:00:00\u001b[0m\n",
            "\u001b[?25hInstalling collected packages: cinemagoer, imdbpy\n",
            "Successfully installed cinemagoer-2023.5.1 imdbpy-2022.7.9\n"
          ]
        }
      ]
    },
    {
      "cell_type": "code",
      "source": [
        "from imdb import IMDb\n",
        "ia = IMDb()\n",
        "movie_name = input(\"Enter the movie name : \")\n",
        "movies = ia.search_movie(movie_name)\n",
        "\n",
        "if movies:\n",
        "  movie = movies[0]\n",
        "  ia.update(movie)\n",
        "  directors = movie.get('directors')\n",
        "  if directors:\n",
        "    print('Directors:')\n",
        "    for director in directors:\n",
        "      print(director['name'])\n",
        "  else:\n",
        "    print(\"No director information available\")\n",
        "else:\n",
        "  print(f\"No movies found with the title '{movie_name}\")\n",
        "\n"
      ],
      "metadata": {
        "id": "C7lzm4Ev42AJ",
        "outputId": "7e7c7351-7921-453d-a3cf-fb06826ca37b",
        "colab": {
          "base_uri": "https://localhost:8080/"
        }
      },
      "execution_count": null,
      "outputs": [
        {
          "output_type": "stream",
          "name": "stdout",
          "text": [
            "Enter the movie name : dharkan\n",
            "Directors:\n",
            "Devendra Goel\n"
          ]
        }
      ]
    },
    {
      "cell_type": "code",
      "source": [
        "!pip install wmi"
      ],
      "metadata": {
        "id": "rHuzf_Bg19pg",
        "outputId": "9362dee1-378b-4c96-983f-69aea2fa1eb0",
        "colab": {
          "base_uri": "https://localhost:8080/"
        }
      },
      "execution_count": null,
      "outputs": [
        {
          "output_type": "stream",
          "name": "stdout",
          "text": [
            "Collecting wmi\n",
            "  Downloading WMI-1.5.1-py2.py3-none-any.whl.metadata (3.6 kB)\n",
            "INFO: pip is looking at multiple versions of wmi to determine which version is compatible with other requirements. This could take a while.\n",
            "  Downloading WMI-1.5-py3-none-any.whl.metadata (3.6 kB)\n",
            "  Downloading WMI-1.4.9.zip (26 kB)\n",
            "  Preparing metadata (setup.py) ... \u001b[?25l\u001b[?25hdone\n",
            "Building wheels for collected packages: wmi\n",
            "  Building wheel for wmi (setup.py) ... \u001b[?25l\u001b[?25hdone\n",
            "  Created wheel for wmi: filename=WMI-1.4.9-py3-none-any.whl size=27269 sha256=e2eff00b596552912269fe0df6bc65d4ce92f12fc201d9a6c2eeab88058c104a\n",
            "  Stored in directory: /root/.cache/pip/wheels/de/14/d6/c9ad27e194eaccdf484df5b64bc2906703a9b619931494a3da\n",
            "Successfully built wmi\n",
            "Installing collected packages: wmi\n",
            "Successfully installed wmi-1.4.9\n"
          ]
        }
      ]
    },
    {
      "cell_type": "code",
      "source": [
        "import os\n",
        "import platform\n",
        "\n",
        "print(f\"OS Name: {os.name}\")\n",
        "print(f\"OS Version: {platform.system()} {platform.release()}\")\n",
        "print(f\"OS Architecture: {platform.machine()}\")\n",
        "print(f\"Hostname: {platform.node()}\")"
      ],
      "metadata": {
        "id": "E0G-Dnjr6A82",
        "outputId": "f03db78a-a5a0-45e2-c588-9a2c3cc1703d",
        "colab": {
          "base_uri": "https://localhost:8080/"
        }
      },
      "execution_count": null,
      "outputs": [
        {
          "output_type": "stream",
          "name": "stdout",
          "text": [
            "OS Name: posix\n",
            "OS Version: Linux 6.1.85+\n",
            "OS Architecture: x86_64\n",
            "Hostname: 13a8e658b8a7\n"
          ]
        }
      ]
    },
    {
      "cell_type": "code",
      "source": [
        "!pip install textblob\n"
      ],
      "metadata": {
        "id": "9Iuegu7L0ctl",
        "outputId": "cb376ee1-4280-4e4a-fa21-d861c3c09edc",
        "colab": {
          "base_uri": "https://localhost:8080/"
        }
      },
      "execution_count": null,
      "outputs": [
        {
          "output_type": "stream",
          "name": "stdout",
          "text": [
            "Requirement already satisfied: textblob in /usr/local/lib/python3.10/dist-packages (0.17.1)\n",
            "Requirement already satisfied: nltk>=3.1 in /usr/local/lib/python3.10/dist-packages (from textblob) (3.8.1)\n",
            "Requirement already satisfied: click in /usr/local/lib/python3.10/dist-packages (from nltk>=3.1->textblob) (8.1.7)\n",
            "Requirement already satisfied: joblib in /usr/local/lib/python3.10/dist-packages (from nltk>=3.1->textblob) (1.4.2)\n",
            "Requirement already satisfied: regex>=2021.8.3 in /usr/local/lib/python3.10/dist-packages (from nltk>=3.1->textblob) (2024.9.11)\n",
            "Requirement already satisfied: tqdm in /usr/local/lib/python3.10/dist-packages (from nltk>=3.1->textblob) (4.66.6)\n",
            "Enter your sentece: watterr\n",
            "corrected  : matter\n"
          ]
        }
      ]
    },
    {
      "cell_type": "code",
      "source": [
        "from textblob import TextBlob\n",
        "\n",
        "def correct_grammer(text):\n",
        "  blob = TextBlob(text)\n",
        "  corrected_text = str(blob.correct())\n",
        "  return corrected_text\n",
        "\n",
        "\n",
        "text = input(\"Enter your sentece: \")\n",
        "corrected_text = correct_grammer(text)\n",
        "print(f\"corrected  : {corrected_text}\")"
      ],
      "metadata": {
        "id": "2Dk7YiQn3-hW",
        "outputId": "24ab7638-49e3-4106-8d5a-5df2c45a0a6a",
        "colab": {
          "base_uri": "https://localhost:8080/"
        }
      },
      "execution_count": null,
      "outputs": [
        {
          "output_type": "stream",
          "name": "stdout",
          "text": [
            "Enter your sentece: cattt\n",
            "corrected  : carts\n"
          ]
        }
      ]
    },
    {
      "cell_type": "code",
      "source": [
        "from rembg import remove\n",
        "from PIL import Image\n",
        "input_path = 'input.jpg'\n",
        "output_path = 'output.png'\n",
        "\n",
        "input = Image.open(input_path)\n",
        "output = remove(input)\n",
        "output.save(output_path)\n",
        "Image.open('clgot.png')"
      ],
      "metadata": {
        "id": "ITniCP7A3pVx"
      },
      "execution_count": null,
      "outputs": []
    },
    {
      "cell_type": "code",
      "source": [
        "!pip install secrets"
      ],
      "metadata": {
        "id": "UMtQbqmpI0Ks",
        "outputId": "cbe10267-bfcd-4614-ea89-3fae9dd3700b",
        "colab": {
          "base_uri": "https://localhost:8080/"
        }
      },
      "execution_count": 1,
      "outputs": [
        {
          "output_type": "stream",
          "name": "stdout",
          "text": [
            "Collecting secrets\n",
            "  Downloading secrets-1.0.2.tar.gz (7.9 kB)\n",
            "  Preparing metadata (setup.py) ... \u001b[?25l\u001b[?25hdone\n",
            "Collecting configobj (from secrets)\n",
            "  Downloading configobj-5.0.9.tar.gz (101 kB)\n",
            "\u001b[2K     \u001b[90m━━━━━━━━━━━━━━━━━━━━━━━━━━━━━━━━━━━━━━━━\u001b[0m \u001b[32m101.5/101.5 kB\u001b[0m \u001b[31m1.5 MB/s\u001b[0m eta \u001b[36m0:00:00\u001b[0m\n",
            "\u001b[?25h  Installing build dependencies ... \u001b[?25l\u001b[?25hdone\n",
            "  Getting requirements to build wheel ... \u001b[?25l\u001b[?25hdone\n",
            "  Preparing metadata (pyproject.toml) ... \u001b[?25l\u001b[?25hdone\n",
            "Collecting python-ldap (from secrets)\n",
            "  Downloading python-ldap-3.4.4.tar.gz (377 kB)\n",
            "\u001b[2K     \u001b[90m━━━━━━━━━━━━━━━━━━━━━━━━━━━━━━━━━━━━━━━━\u001b[0m \u001b[32m377.9/377.9 kB\u001b[0m \u001b[31m8.0 MB/s\u001b[0m eta \u001b[36m0:00:00\u001b[0m\n",
            "\u001b[?25h  Installing build dependencies ... \u001b[?25l\u001b[?25hdone\n",
            "  Getting requirements to build wheel ... \u001b[?25l\u001b[?25hdone\n",
            "  Preparing metadata (pyproject.toml) ... \u001b[?25l\u001b[?25hdone\n",
            "Collecting systematic>=3.0.0 (from secrets)\n",
            "  Downloading systematic-4.8.7-py3-none-any.whl.metadata (803 bytes)\n",
            "Collecting python-gnupg (from secrets)\n",
            "  Downloading python_gnupg-0.5.3-py2.py3-none-any.whl.metadata (1.9 kB)\n",
            "Requirement already satisfied: future in /usr/local/lib/python3.10/dist-packages (from systematic>=3.0.0->secrets) (1.0.0)\n",
            "Requirement already satisfied: pyasn1>=0.3.7 in /usr/local/lib/python3.10/dist-packages (from python-ldap->secrets) (0.6.1)\n",
            "Requirement already satisfied: pyasn1-modules>=0.1.5 in /usr/local/lib/python3.10/dist-packages (from python-ldap->secrets) (0.4.1)\n",
            "Downloading systematic-4.8.7-py3-none-any.whl (83 kB)\n",
            "\u001b[2K   \u001b[90m━━━━━━━━━━━━━━━━━━━━━━━━━━━━━━━━━━━━━━━━\u001b[0m \u001b[32m83.8/83.8 kB\u001b[0m \u001b[31m6.4 MB/s\u001b[0m eta \u001b[36m0:00:00\u001b[0m\n",
            "\u001b[?25hDownloading python_gnupg-0.5.3-py2.py3-none-any.whl (21 kB)\n",
            "Building wheels for collected packages: secrets, configobj, python-ldap\n",
            "  Building wheel for secrets (setup.py) ... \u001b[?25l\u001b[?25hdone\n",
            "  Created wheel for secrets: filename=secrets-1.0.2-py3-none-any.whl size=11428 sha256=4d1bc16c491580d74efffa6a39cb15190fc7174052562c2a7d80a14529990912\n",
            "  Stored in directory: /root/.cache/pip/wheels/75/ba/10/9524adaf68a680a4a69d1e8b099dcc222f940ae36b66e34929\n",
            "  Building wheel for configobj (pyproject.toml) ... \u001b[?25l\u001b[?25hdone\n",
            "  Created wheel for configobj: filename=configobj-5.0.9-py2.py3-none-any.whl size=35615 sha256=e7c8d14a2d38d5b2239be41cda76b6284b8d1d71b436144e79c031854a722694\n",
            "  Stored in directory: /root/.cache/pip/wheels/a1/6c/03/6c5e3cf1a6e4b9e2fc5c4409be4abc5a8268bd9c878739cb32\n",
            "  \u001b[1;31merror\u001b[0m: \u001b[1msubprocess-exited-with-error\u001b[0m\n",
            "  \n",
            "  \u001b[31m×\u001b[0m \u001b[32mBuilding wheel for python-ldap \u001b[0m\u001b[1;32m(\u001b[0m\u001b[32mpyproject.toml\u001b[0m\u001b[1;32m)\u001b[0m did not run successfully.\n",
            "  \u001b[31m│\u001b[0m exit code: \u001b[1;36m1\u001b[0m\n",
            "  \u001b[31m╰─>\u001b[0m See above for output.\n",
            "  \n",
            "  \u001b[1;35mnote\u001b[0m: This error originates from a subprocess, and is likely not a problem with pip.\n",
            "  Building wheel for python-ldap (pyproject.toml) ... \u001b[?25l\u001b[?25herror\n",
            "\u001b[31m  ERROR: Failed building wheel for python-ldap\u001b[0m\u001b[31m\n",
            "\u001b[0mSuccessfully built secrets configobj\n",
            "Failed to build python-ldap\n",
            "\u001b[31mERROR: ERROR: Failed to build installable wheels for some pyproject.toml based projects (python-ldap)\u001b[0m\u001b[31m\n",
            "\u001b[0m"
          ]
        }
      ]
    },
    {
      "cell_type": "code",
      "source": [
        "import secrets\n",
        "def generate_otp(length = 6):\n",
        "  return ''.join(str(secrets.randbelow(10)) for _ in range(length))\n",
        "\n",
        "\n",
        "print(\"Generated OTP:\", generate_otp())"
      ],
      "metadata": {
        "id": "Cv5R9wlcI5t1",
        "outputId": "4338b88a-5e7b-4406-c77e-83c71fb48c9a",
        "colab": {
          "base_uri": "https://localhost:8080/"
        }
      },
      "execution_count": 3,
      "outputs": [
        {
          "output_type": "stream",
          "name": "stdout",
          "text": [
            "Generated OTP: 111662\n"
          ]
        }
      ]
    },
    {
      "cell_type": "code",
      "source": [
        "import os\n",
        "import urllib.request as urllib2\n",
        "import json\n",
        "\n",
        "while True:\n",
        "  ip = input(\"what is your target IP : \")\n",
        "  url = \"http://ip-api.com/json/\"\n",
        "  response = urllib2.urlopen(url+ip)\n",
        "  data = response.read()\n",
        "  values = json.loads(data)\n",
        "\n",
        "  print(\"IP : \" + values[\"query\"])\n",
        "  print(\"City : \" + values[\"city\"])\n",
        "  print(\"Region : \" + values[\"region\"])\n",
        "  print(\"Country : \" + values[\"country\"])\n",
        "  print(\"Country Code: \" + values[\"countryCode\"])  # Added countryCode\n",
        "  print(\"Region Name: \" + values.get(\"regionName\", \"N/A\"))  # Added regionName\n",
        "  # Geographic Details\n",
        "  print(\"Latitude : \" + str(values[\"lat\"]))\n",
        "  print(\"Longitude : \" +str( values[\"lon\"]))\n",
        "  print(\"Timezone: \" + values[\"timezone\"])\n",
        "\n",
        "  print(\"Zip : \" + values[\"zip\"])\n",
        "  print(\"Org : \" + values[\"org\"])\n",
        "  print(\"As : \" + values[\"as\"])\n",
        "  print(\"Status : \" + values[\"status\"])\n",
        "  #print(\"Message : \" + str(values[\"message\"]))\n",
        "  print(\"Query : \" + values[\"query\"])\n",
        " # Additional Information:\n",
        "  print(\"ISP: \" + values.get(\"isp\", \"N/A\"))  # Get ISP, if available, otherwise \"N/A\"\n",
        "  print(\"Reverse DNS: \" + values.get(\"reverse\", \"N/A\"))  # Get reverse DNS, if available\n",
        "  print(\"Mobile Connection: \" + str(values.get(\"mobile\", False)))  # Check if mobile connection\n",
        "  print(\"Proxy Connection: \" + str(values.get(\"proxy\", False)))  # Check if proxy connection\n",
        "  print(\"Hosting: \" + str(values.get(\"hosting\", False)))  # Check if hosting server\n",
        "\n",
        "\n",
        "  break\n",
        "\n"
      ],
      "metadata": {
        "id": "IGfMVobhJdG7",
        "outputId": "922df635-42ee-45a4-c221-58071b7a798c",
        "colab": {
          "base_uri": "https://localhost:8080/"
        }
      },
      "execution_count": 14,
      "outputs": [
        {
          "output_type": "stream",
          "name": "stdout",
          "text": [
            "what is your target IP : 112.196.12.13\n",
            "IP : 112.196.12.13\n",
            "City : Chandigarh\n",
            "Region : CH\n",
            "Country : India\n",
            "Latitude : 30.7339\n",
            "Longitude : 76.7889\n",
            "Timezone: Asia/Kolkata\n",
            "Zip : 160017\n",
            "Org : Hfcl Infotel LTD\n",
            "As : AS17917 Quadrant Televentures Limited\n",
            "Status : success\n",
            "Query : 112.196.12.13\n",
            "ISP: Quadrant Televentures Limited\n",
            "Reverse DNS: N/A\n",
            "Mobile Connection: False\n",
            "Proxy Connection: False\n",
            "Hosting: False\n"
          ]
        }
      ]
    },
    {
      "cell_type": "code",
      "source": [
        "import os\n",
        "import urllib.request as urllib2\n",
        "import json\n",
        "\n",
        "while True:\n",
        "    ip = input(\"What is your target IP: \")\n",
        "    url = \"http://ip-api.com/json/\"\n",
        "    response = urllib2.urlopen(url + ip)\n",
        "    data = response.read()\n",
        "    values = json.loads(data)\n",
        "\n",
        "    # Basic Information\n",
        "    print(\"\\n----- Basic Information -----\")\n",
        "    print(\"IP: \" + values[\"query\"])\n",
        "    print(\"City: \" + values[\"city\"])\n",
        "    print(\"Region: \" + values[\"region\"])\n",
        "    print(\"Region Name: \" + values.get(\"regionName\", \"N/A\"))  # Added regionName\n",
        "    print(\"Country: \" + values[\"country\"])\n",
        "    print(\"Country Code: \" + values[\"countryCode\"])  # Added countryCode\n",
        "\n",
        "    # Geographic Details\n",
        "    print(\"\\n----- Geographic Details -----\")\n",
        "    print(\"Latitude: \" + str(values[\"lat\"]))\n",
        "    print(\"Longitude: \" + str(values[\"lon\"]))\n",
        "    print(\"Timezone: \" + values[\"timezone\"])\n",
        "\n",
        "    # Network Details\n",
        "    print(\"\\n----- Network Details -----\")\n",
        "    print(\"ISP: \" + values.get(\"isp\", \"N/A\"))\n",
        "    print(\"AS: \" + values.get(\"as\", \"N/A\"))\n",
        "    print(\"Organization: \" + values.get(\"org\", \"N/A\"))\n",
        "    print(\"Reverse DNS: \" + values.get(\"reverse\", \"N/A\"))\n",
        "\n",
        "    # Connection Details\n",
        "    print(\"\\n----- Connection Details -----\")\n",
        "    print(\"Mobile Connection: \" + str(values.get(\"mobile\", False)))\n",
        "    print(\"Proxy Connection: \" + str(values.get(\"proxy\", False)))\n",
        "    print(\"Hosting: \" + str(values.get(\"hosting\", False)))\n",
        "    print(\"Zip Code: \" + values.get(\"zip\", \"N/A\"))\n",
        "    print(\"Status: \" + values[\"status\"])\n",
        "\n",
        "    # Currency Details (if available)\n",
        "    print(\"\\n----- Currency Details (if available) -----\")\n",
        "    currency = values.get(\"currency\")\n",
        "    if currency:\n",
        "        print(\"Currency: \" + currency)\n",
        "        print(\"Currency Name: \" + values.get(\"currencyName\", \"N/A\"))\n",
        "        print(\"Currency Symbol: \" + values.get(\"currencySymbol\", \"N/A\"))\n",
        "    else:\n",
        "        print(\"Currency information not available for this IP.\")\n",
        "\n",
        "    break"
      ],
      "metadata": {
        "id": "tWD65XdXKz3W",
        "outputId": "5c8c68e3-c7da-4bfc-a9af-7b351def3d2b",
        "colab": {
          "base_uri": "https://localhost:8080/"
        }
      },
      "execution_count": 16,
      "outputs": [
        {
          "output_type": "stream",
          "name": "stdout",
          "text": [
            "What is your target IP: 112.196.13.13\n",
            "\n",
            "----- Basic Information -----\n",
            "IP: 112.196.13.13\n",
            "City: Bathinda\n",
            "Region: PB\n",
            "Region Name: Punjab\n",
            "Country: India\n",
            "Country Code: IN\n",
            "\n",
            "----- Geographic Details -----\n",
            "Latitude: 30.206\n",
            "Longitude: 74.9302\n",
            "Timezone: Asia/Kolkata\n",
            "\n",
            "----- Network Details -----\n",
            "ISP: Quadrant Televentures Limited\n",
            "AS: AS17917 Quadrant Televentures Limited\n",
            "Organization: Hfcl Infotel LTD\n",
            "Reverse DNS: N/A\n",
            "\n",
            "----- Connection Details -----\n",
            "Mobile Connection: False\n",
            "Proxy Connection: False\n",
            "Hosting: False\n",
            "Zip Code: 151005\n",
            "Status: success\n",
            "\n",
            "----- Currency Details (if available) -----\n",
            "Currency information not available for this IP.\n"
          ]
        }
      ]
    },
    {
      "cell_type": "code",
      "source": [],
      "metadata": {
        "id": "wW568a7FN-wV"
      },
      "execution_count": null,
      "outputs": []
    }
  ]
}