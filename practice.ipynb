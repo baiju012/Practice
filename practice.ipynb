{
  "nbformat": 4,
  "nbformat_minor": 0,
  "metadata": {
    "colab": {
      "provenance": [],
      "include_colab_link": true
    },
    "kernelspec": {
      "name": "python3",
      "display_name": "Python 3"
    },
    "language_info": {
      "name": "python"
    },
    "widgets": {
      "application/vnd.jupyter.widget-state+json": {
        "b2b59dbf6e114fd79bceb94489c936c4": {
          "model_module": "@jupyter-widgets/output",
          "model_name": "OutputModel",
          "model_module_version": "1.0.0",
          "state": {
            "_dom_classes": [],
            "_model_module": "@jupyter-widgets/output",
            "_model_module_version": "1.0.0",
            "_model_name": "OutputModel",
            "_view_count": null,
            "_view_module": "@jupyter-widgets/output",
            "_view_module_version": "1.0.0",
            "_view_name": "OutputView",
            "layout": "IPY_MODEL_9bbbf74f0b774064bb707e946f3f7c6d",
            "msg_id": "",
            "outputs": [
              {
                "output_type": "display_data",
                "data": {
                  "text/plain": "Downloading \u001b[38;2;114;156;31m━━━━━━━━━━━━━━━━━━━━━━━━━━━━━━━━━━━━━━━━\u001b[0m \u001b[35m100%\u001b[0m \u001b[36m0:00:00\u001b[0m\n",
                  "text/html": "<pre style=\"white-space:pre;overflow-x:auto;line-height:normal;font-family:Menlo,'DejaVu Sans Mono',consolas,'Courier New',monospace\">Downloading <span style=\"color: #729c1f; text-decoration-color: #729c1f\">━━━━━━━━━━━━━━━━━━━━━━━━━━━━━━━━━━━━━━━━</span> <span style=\"color: #800080; text-decoration-color: #800080\">100%</span> <span style=\"color: #008080; text-decoration-color: #008080\">0:00:00</span>\n</pre>\n"
                },
                "metadata": {}
              }
            ]
          }
        },
        "9bbbf74f0b774064bb707e946f3f7c6d": {
          "model_module": "@jupyter-widgets/base",
          "model_name": "LayoutModel",
          "model_module_version": "1.2.0",
          "state": {
            "_model_module": "@jupyter-widgets/base",
            "_model_module_version": "1.2.0",
            "_model_name": "LayoutModel",
            "_view_count": null,
            "_view_module": "@jupyter-widgets/base",
            "_view_module_version": "1.2.0",
            "_view_name": "LayoutView",
            "align_content": null,
            "align_items": null,
            "align_self": null,
            "border": null,
            "bottom": null,
            "display": null,
            "flex": null,
            "flex_flow": null,
            "grid_area": null,
            "grid_auto_columns": null,
            "grid_auto_flow": null,
            "grid_auto_rows": null,
            "grid_column": null,
            "grid_gap": null,
            "grid_row": null,
            "grid_template_areas": null,
            "grid_template_columns": null,
            "grid_template_rows": null,
            "height": null,
            "justify_content": null,
            "justify_items": null,
            "left": null,
            "margin": null,
            "max_height": null,
            "max_width": null,
            "min_height": null,
            "min_width": null,
            "object_fit": null,
            "object_position": null,
            "order": null,
            "overflow": null,
            "overflow_x": null,
            "overflow_y": null,
            "padding": null,
            "right": null,
            "top": null,
            "visibility": null,
            "width": null
          }
        }
      }
    }
  },
  "cells": [
    {
      "cell_type": "markdown",
      "metadata": {
        "id": "view-in-github",
        "colab_type": "text"
      },
      "source": [
        "<a href=\"https://colab.research.google.com/github/baiju012/Practice/blob/main/practice.ipynb\" target=\"_parent\"><img src=\"https://colab.research.google.com/assets/colab-badge.svg\" alt=\"Open In Colab\"/></a>"
      ]
    },
    {
      "cell_type": "code",
      "execution_count": null,
      "metadata": {
        "id": "7K6Vzem9kR-I",
        "outputId": "2524ab3c-1bac-4a3e-96c3-d6c830a6f165",
        "colab": {
          "base_uri": "https://localhost:8080/"
        }
      },
      "outputs": [
        {
          "output_type": "stream",
          "name": "stdout",
          "text": [
            "7\n"
          ]
        }
      ],
      "source": [
        "def add(a, b=4):\n",
        "    return (a+b)\n",
        "\n",
        "\n",
        "print(add( 4,3))\n"
      ]
    },
    {
      "cell_type": "code",
      "source": [
        "#first shold be defult than agrument\n",
        "def add(a=4, b):\n",
        "  return (a+b)\n",
        "\n",
        "print(add(4,2))"
      ],
      "metadata": {
        "id": "sKT2w4_tk-3X"
      },
      "execution_count": null,
      "outputs": []
    },
    {
      "cell_type": "code",
      "source": [
        "!pip install plotly"
      ],
      "metadata": {
        "id": "fE5indJz4jwQ",
        "outputId": "7a453296-4df5-444b-8bfe-4b4eeec36f2d",
        "colab": {
          "base_uri": "https://localhost:8080/"
        }
      },
      "execution_count": null,
      "outputs": [
        {
          "output_type": "stream",
          "name": "stdout",
          "text": [
            "Requirement already satisfied: plotly in /usr/local/lib/python3.10/dist-packages (5.24.1)\n",
            "Requirement already satisfied: tenacity>=6.2.0 in /usr/local/lib/python3.10/dist-packages (from plotly) (9.0.0)\n",
            "Requirement already satisfied: packaging in /usr/local/lib/python3.10/dist-packages (from plotly) (24.1)\n"
          ]
        }
      ]
    },
    {
      "cell_type": "markdown",
      "source": [
        "Sunburst Chart"
      ],
      "metadata": {
        "id": "DP4R7XZl6AIq"
      }
    },
    {
      "cell_type": "code",
      "source": [
        "import plotly.graph_objects as go\n",
        "data = {'id': [\"A\",\"B\",\"C\"],\n",
        "        'parent': [\"\",\"A\",\"A\"],\n",
        "        'value':[10,12,5]}\n",
        "\n",
        "fig = go.Figure(go.Sunburst(\n",
        "            labels = data['id'],\n",
        "            parents=data['parent'],\n",
        "            values=data['value']\n",
        "        ))\n",
        "\n",
        "fig.update_layout(title_text = \"Sunburst Chart\")\n",
        "fig.show()"
      ],
      "metadata": {
        "id": "wF3_qvVs4VxY",
        "outputId": "50449a11-23f7-4d38-e535-7af1d50c4345",
        "colab": {
          "base_uri": "https://localhost:8080/",
          "height": 542
        }
      },
      "execution_count": null,
      "outputs": [
        {
          "output_type": "display_data",
          "data": {
            "text/html": [
              "<html>\n",
              "<head><meta charset=\"utf-8\" /></head>\n",
              "<body>\n",
              "    <div>            <script src=\"https://cdnjs.cloudflare.com/ajax/libs/mathjax/2.7.5/MathJax.js?config=TeX-AMS-MML_SVG\"></script><script type=\"text/javascript\">if (window.MathJax && window.MathJax.Hub && window.MathJax.Hub.Config) {window.MathJax.Hub.Config({SVG: {font: \"STIX-Web\"}});}</script>                <script type=\"text/javascript\">window.PlotlyConfig = {MathJaxConfig: 'local'};</script>\n",
              "        <script charset=\"utf-8\" src=\"https://cdn.plot.ly/plotly-2.35.2.min.js\"></script>                <div id=\"130c7239-8b93-4f75-8699-a56d6a2efc45\" class=\"plotly-graph-div\" style=\"height:525px; width:100%;\"></div>            <script type=\"text/javascript\">                                    window.PLOTLYENV=window.PLOTLYENV || {};                                    if (document.getElementById(\"130c7239-8b93-4f75-8699-a56d6a2efc45\")) {                    Plotly.newPlot(                        \"130c7239-8b93-4f75-8699-a56d6a2efc45\",                        [{\"labels\":[\"A\",\"B\",\"C\"],\"parents\":[\"\",\"A\",\"A\"],\"values\":[10,12,5],\"type\":\"sunburst\"}],                        {\"template\":{\"data\":{\"histogram2dcontour\":[{\"type\":\"histogram2dcontour\",\"colorbar\":{\"outlinewidth\":0,\"ticks\":\"\"},\"colorscale\":[[0.0,\"#0d0887\"],[0.1111111111111111,\"#46039f\"],[0.2222222222222222,\"#7201a8\"],[0.3333333333333333,\"#9c179e\"],[0.4444444444444444,\"#bd3786\"],[0.5555555555555556,\"#d8576b\"],[0.6666666666666666,\"#ed7953\"],[0.7777777777777778,\"#fb9f3a\"],[0.8888888888888888,\"#fdca26\"],[1.0,\"#f0f921\"]]}],\"choropleth\":[{\"type\":\"choropleth\",\"colorbar\":{\"outlinewidth\":0,\"ticks\":\"\"}}],\"histogram2d\":[{\"type\":\"histogram2d\",\"colorbar\":{\"outlinewidth\":0,\"ticks\":\"\"},\"colorscale\":[[0.0,\"#0d0887\"],[0.1111111111111111,\"#46039f\"],[0.2222222222222222,\"#7201a8\"],[0.3333333333333333,\"#9c179e\"],[0.4444444444444444,\"#bd3786\"],[0.5555555555555556,\"#d8576b\"],[0.6666666666666666,\"#ed7953\"],[0.7777777777777778,\"#fb9f3a\"],[0.8888888888888888,\"#fdca26\"],[1.0,\"#f0f921\"]]}],\"heatmap\":[{\"type\":\"heatmap\",\"colorbar\":{\"outlinewidth\":0,\"ticks\":\"\"},\"colorscale\":[[0.0,\"#0d0887\"],[0.1111111111111111,\"#46039f\"],[0.2222222222222222,\"#7201a8\"],[0.3333333333333333,\"#9c179e\"],[0.4444444444444444,\"#bd3786\"],[0.5555555555555556,\"#d8576b\"],[0.6666666666666666,\"#ed7953\"],[0.7777777777777778,\"#fb9f3a\"],[0.8888888888888888,\"#fdca26\"],[1.0,\"#f0f921\"]]}],\"heatmapgl\":[{\"type\":\"heatmapgl\",\"colorbar\":{\"outlinewidth\":0,\"ticks\":\"\"},\"colorscale\":[[0.0,\"#0d0887\"],[0.1111111111111111,\"#46039f\"],[0.2222222222222222,\"#7201a8\"],[0.3333333333333333,\"#9c179e\"],[0.4444444444444444,\"#bd3786\"],[0.5555555555555556,\"#d8576b\"],[0.6666666666666666,\"#ed7953\"],[0.7777777777777778,\"#fb9f3a\"],[0.8888888888888888,\"#fdca26\"],[1.0,\"#f0f921\"]]}],\"contourcarpet\":[{\"type\":\"contourcarpet\",\"colorbar\":{\"outlinewidth\":0,\"ticks\":\"\"}}],\"contour\":[{\"type\":\"contour\",\"colorbar\":{\"outlinewidth\":0,\"ticks\":\"\"},\"colorscale\":[[0.0,\"#0d0887\"],[0.1111111111111111,\"#46039f\"],[0.2222222222222222,\"#7201a8\"],[0.3333333333333333,\"#9c179e\"],[0.4444444444444444,\"#bd3786\"],[0.5555555555555556,\"#d8576b\"],[0.6666666666666666,\"#ed7953\"],[0.7777777777777778,\"#fb9f3a\"],[0.8888888888888888,\"#fdca26\"],[1.0,\"#f0f921\"]]}],\"surface\":[{\"type\":\"surface\",\"colorbar\":{\"outlinewidth\":0,\"ticks\":\"\"},\"colorscale\":[[0.0,\"#0d0887\"],[0.1111111111111111,\"#46039f\"],[0.2222222222222222,\"#7201a8\"],[0.3333333333333333,\"#9c179e\"],[0.4444444444444444,\"#bd3786\"],[0.5555555555555556,\"#d8576b\"],[0.6666666666666666,\"#ed7953\"],[0.7777777777777778,\"#fb9f3a\"],[0.8888888888888888,\"#fdca26\"],[1.0,\"#f0f921\"]]}],\"mesh3d\":[{\"type\":\"mesh3d\",\"colorbar\":{\"outlinewidth\":0,\"ticks\":\"\"}}],\"scatter\":[{\"fillpattern\":{\"fillmode\":\"overlay\",\"size\":10,\"solidity\":0.2},\"type\":\"scatter\"}],\"parcoords\":[{\"type\":\"parcoords\",\"line\":{\"colorbar\":{\"outlinewidth\":0,\"ticks\":\"\"}}}],\"scatterpolargl\":[{\"type\":\"scatterpolargl\",\"marker\":{\"colorbar\":{\"outlinewidth\":0,\"ticks\":\"\"}}}],\"bar\":[{\"error_x\":{\"color\":\"#2a3f5f\"},\"error_y\":{\"color\":\"#2a3f5f\"},\"marker\":{\"line\":{\"color\":\"#E5ECF6\",\"width\":0.5},\"pattern\":{\"fillmode\":\"overlay\",\"size\":10,\"solidity\":0.2}},\"type\":\"bar\"}],\"scattergeo\":[{\"type\":\"scattergeo\",\"marker\":{\"colorbar\":{\"outlinewidth\":0,\"ticks\":\"\"}}}],\"scatterpolar\":[{\"type\":\"scatterpolar\",\"marker\":{\"colorbar\":{\"outlinewidth\":0,\"ticks\":\"\"}}}],\"histogram\":[{\"marker\":{\"pattern\":{\"fillmode\":\"overlay\",\"size\":10,\"solidity\":0.2}},\"type\":\"histogram\"}],\"scattergl\":[{\"type\":\"scattergl\",\"marker\":{\"colorbar\":{\"outlinewidth\":0,\"ticks\":\"\"}}}],\"scatter3d\":[{\"type\":\"scatter3d\",\"line\":{\"colorbar\":{\"outlinewidth\":0,\"ticks\":\"\"}},\"marker\":{\"colorbar\":{\"outlinewidth\":0,\"ticks\":\"\"}}}],\"scattermapbox\":[{\"type\":\"scattermapbox\",\"marker\":{\"colorbar\":{\"outlinewidth\":0,\"ticks\":\"\"}}}],\"scatterternary\":[{\"type\":\"scatterternary\",\"marker\":{\"colorbar\":{\"outlinewidth\":0,\"ticks\":\"\"}}}],\"scattercarpet\":[{\"type\":\"scattercarpet\",\"marker\":{\"colorbar\":{\"outlinewidth\":0,\"ticks\":\"\"}}}],\"carpet\":[{\"aaxis\":{\"endlinecolor\":\"#2a3f5f\",\"gridcolor\":\"white\",\"linecolor\":\"white\",\"minorgridcolor\":\"white\",\"startlinecolor\":\"#2a3f5f\"},\"baxis\":{\"endlinecolor\":\"#2a3f5f\",\"gridcolor\":\"white\",\"linecolor\":\"white\",\"minorgridcolor\":\"white\",\"startlinecolor\":\"#2a3f5f\"},\"type\":\"carpet\"}],\"table\":[{\"cells\":{\"fill\":{\"color\":\"#EBF0F8\"},\"line\":{\"color\":\"white\"}},\"header\":{\"fill\":{\"color\":\"#C8D4E3\"},\"line\":{\"color\":\"white\"}},\"type\":\"table\"}],\"barpolar\":[{\"marker\":{\"line\":{\"color\":\"#E5ECF6\",\"width\":0.5},\"pattern\":{\"fillmode\":\"overlay\",\"size\":10,\"solidity\":0.2}},\"type\":\"barpolar\"}],\"pie\":[{\"automargin\":true,\"type\":\"pie\"}]},\"layout\":{\"autotypenumbers\":\"strict\",\"colorway\":[\"#636efa\",\"#EF553B\",\"#00cc96\",\"#ab63fa\",\"#FFA15A\",\"#19d3f3\",\"#FF6692\",\"#B6E880\",\"#FF97FF\",\"#FECB52\"],\"font\":{\"color\":\"#2a3f5f\"},\"hovermode\":\"closest\",\"hoverlabel\":{\"align\":\"left\"},\"paper_bgcolor\":\"white\",\"plot_bgcolor\":\"#E5ECF6\",\"polar\":{\"bgcolor\":\"#E5ECF6\",\"angularaxis\":{\"gridcolor\":\"white\",\"linecolor\":\"white\",\"ticks\":\"\"},\"radialaxis\":{\"gridcolor\":\"white\",\"linecolor\":\"white\",\"ticks\":\"\"}},\"ternary\":{\"bgcolor\":\"#E5ECF6\",\"aaxis\":{\"gridcolor\":\"white\",\"linecolor\":\"white\",\"ticks\":\"\"},\"baxis\":{\"gridcolor\":\"white\",\"linecolor\":\"white\",\"ticks\":\"\"},\"caxis\":{\"gridcolor\":\"white\",\"linecolor\":\"white\",\"ticks\":\"\"}},\"coloraxis\":{\"colorbar\":{\"outlinewidth\":0,\"ticks\":\"\"}},\"colorscale\":{\"sequential\":[[0.0,\"#0d0887\"],[0.1111111111111111,\"#46039f\"],[0.2222222222222222,\"#7201a8\"],[0.3333333333333333,\"#9c179e\"],[0.4444444444444444,\"#bd3786\"],[0.5555555555555556,\"#d8576b\"],[0.6666666666666666,\"#ed7953\"],[0.7777777777777778,\"#fb9f3a\"],[0.8888888888888888,\"#fdca26\"],[1.0,\"#f0f921\"]],\"sequentialminus\":[[0.0,\"#0d0887\"],[0.1111111111111111,\"#46039f\"],[0.2222222222222222,\"#7201a8\"],[0.3333333333333333,\"#9c179e\"],[0.4444444444444444,\"#bd3786\"],[0.5555555555555556,\"#d8576b\"],[0.6666666666666666,\"#ed7953\"],[0.7777777777777778,\"#fb9f3a\"],[0.8888888888888888,\"#fdca26\"],[1.0,\"#f0f921\"]],\"diverging\":[[0,\"#8e0152\"],[0.1,\"#c51b7d\"],[0.2,\"#de77ae\"],[0.3,\"#f1b6da\"],[0.4,\"#fde0ef\"],[0.5,\"#f7f7f7\"],[0.6,\"#e6f5d0\"],[0.7,\"#b8e186\"],[0.8,\"#7fbc41\"],[0.9,\"#4d9221\"],[1,\"#276419\"]]},\"xaxis\":{\"gridcolor\":\"white\",\"linecolor\":\"white\",\"ticks\":\"\",\"title\":{\"standoff\":15},\"zerolinecolor\":\"white\",\"automargin\":true,\"zerolinewidth\":2},\"yaxis\":{\"gridcolor\":\"white\",\"linecolor\":\"white\",\"ticks\":\"\",\"title\":{\"standoff\":15},\"zerolinecolor\":\"white\",\"automargin\":true,\"zerolinewidth\":2},\"scene\":{\"xaxis\":{\"backgroundcolor\":\"#E5ECF6\",\"gridcolor\":\"white\",\"linecolor\":\"white\",\"showbackground\":true,\"ticks\":\"\",\"zerolinecolor\":\"white\",\"gridwidth\":2},\"yaxis\":{\"backgroundcolor\":\"#E5ECF6\",\"gridcolor\":\"white\",\"linecolor\":\"white\",\"showbackground\":true,\"ticks\":\"\",\"zerolinecolor\":\"white\",\"gridwidth\":2},\"zaxis\":{\"backgroundcolor\":\"#E5ECF6\",\"gridcolor\":\"white\",\"linecolor\":\"white\",\"showbackground\":true,\"ticks\":\"\",\"zerolinecolor\":\"white\",\"gridwidth\":2}},\"shapedefaults\":{\"line\":{\"color\":\"#2a3f5f\"}},\"annotationdefaults\":{\"arrowcolor\":\"#2a3f5f\",\"arrowhead\":0,\"arrowwidth\":1},\"geo\":{\"bgcolor\":\"white\",\"landcolor\":\"#E5ECF6\",\"subunitcolor\":\"white\",\"showland\":true,\"showlakes\":true,\"lakecolor\":\"white\"},\"title\":{\"x\":0.05},\"mapbox\":{\"style\":\"light\"}}},\"title\":{\"text\":\"Sunburst Chart\"}},                        {\"responsive\": true}                    ).then(function(){\n",
              "                            \n",
              "var gd = document.getElementById('130c7239-8b93-4f75-8699-a56d6a2efc45');\n",
              "var x = new MutationObserver(function (mutations, observer) {{\n",
              "        var display = window.getComputedStyle(gd).display;\n",
              "        if (!display || display === 'none') {{\n",
              "            console.log([gd, 'removed!']);\n",
              "            Plotly.purge(gd);\n",
              "            observer.disconnect();\n",
              "        }}\n",
              "}});\n",
              "\n",
              "// Listen for the removal of the full notebook cells\n",
              "var notebookContainer = gd.closest('#notebook-container');\n",
              "if (notebookContainer) {{\n",
              "    x.observe(notebookContainer, {childList: true});\n",
              "}}\n",
              "\n",
              "// Listen for the clearing of the current output cell\n",
              "var outputEl = gd.closest('.output');\n",
              "if (outputEl) {{\n",
              "    x.observe(outputEl, {childList: true});\n",
              "}}\n",
              "\n",
              "                        })                };                            </script>        </div>\n",
              "</body>\n",
              "</html>"
            ]
          },
          "metadata": {}
        }
      ]
    },
    {
      "cell_type": "markdown",
      "source": [
        "Derivatives in Python any function"
      ],
      "metadata": {
        "id": "RkVa2GkO66Zq"
      }
    },
    {
      "cell_type": "code",
      "source": [
        "import sympy as sym\n",
        "x = sym.Symbol('x')\n",
        "func = input(\"enter the Function : \")\n",
        "sym.Derivative(func,x)\n"
      ],
      "metadata": {
        "id": "DJ7TNggl4mO7",
        "outputId": "c6dad011-01da-4924-a7ca-de39fcfe21c2",
        "colab": {
          "base_uri": "https://localhost:8080/",
          "height": 69
        }
      },
      "execution_count": null,
      "outputs": [
        {
          "name": "stdout",
          "output_type": "stream",
          "text": [
            "enter the Function : 1/x**2\n"
          ]
        },
        {
          "output_type": "execute_result",
          "data": {
            "text/plain": [
              "Derivative(x**(-2), x)"
            ],
            "text/latex": "$\\displaystyle \\frac{d}{d x} \\frac{1}{x^{2}}$"
          },
          "metadata": {},
          "execution_count": 16
        }
      ]
    },
    {
      "cell_type": "code",
      "source": [
        "sym.Derivative(func , x, evaluate = True)"
      ],
      "metadata": {
        "id": "JRu03P2g6Zuc",
        "outputId": "869327fe-4e88-4d29-abb9-fe012317e27d",
        "colab": {
          "base_uri": "https://localhost:8080/",
          "height": 51
        }
      },
      "execution_count": null,
      "outputs": [
        {
          "output_type": "execute_result",
          "data": {
            "text/plain": [
              "-2/x**3"
            ],
            "text/latex": "$\\displaystyle - \\frac{2}{x^{3}}$"
          },
          "metadata": {},
          "execution_count": 17
        }
      ]
    },
    {
      "cell_type": "code",
      "source": [
        "import geopandas as gpd\n",
        "import matplotlib.pyplot as plt\n",
        "world = gpd.read_file('naturalearth_lowres')\n",
        "\n",
        "world.plot(edgecolor = 'red')\n",
        "plt.title(\"world Map with Country Borders\")\n",
        "plt.show()"
      ],
      "metadata": {
        "id": "IN9ReecM63-a",
        "outputId": "a67771c2-e5d7-4b37-d5b0-6f443a2f0c99",
        "colab": {
          "base_uri": "https://localhost:8080/",
          "height": 425
        }
      },
      "execution_count": null,
      "outputs": [
        {
          "output_type": "error",
          "ename": "DataSourceError",
          "evalue": "naturalearth_lowres: No such file or directory",
          "traceback": [
            "\u001b[0;31m---------------------------------------------------------------------------\u001b[0m",
            "\u001b[0;31mDataSourceError\u001b[0m                           Traceback (most recent call last)",
            "\u001b[0;32m<ipython-input-20-d288c378a760>\u001b[0m in \u001b[0;36m<cell line: 3>\u001b[0;34m()\u001b[0m\n\u001b[1;32m      1\u001b[0m \u001b[0;32mimport\u001b[0m \u001b[0mgeopandas\u001b[0m \u001b[0;32mas\u001b[0m \u001b[0mgpd\u001b[0m\u001b[0;34m\u001b[0m\u001b[0;34m\u001b[0m\u001b[0m\n\u001b[1;32m      2\u001b[0m \u001b[0;32mimport\u001b[0m \u001b[0mmatplotlib\u001b[0m\u001b[0;34m.\u001b[0m\u001b[0mpyplot\u001b[0m \u001b[0;32mas\u001b[0m \u001b[0mplt\u001b[0m\u001b[0;34m\u001b[0m\u001b[0;34m\u001b[0m\u001b[0m\n\u001b[0;32m----> 3\u001b[0;31m \u001b[0mworld\u001b[0m \u001b[0;34m=\u001b[0m \u001b[0mgpd\u001b[0m\u001b[0;34m.\u001b[0m\u001b[0mread_file\u001b[0m\u001b[0;34m(\u001b[0m\u001b[0;34m'naturalearth_lowres'\u001b[0m\u001b[0;34m)\u001b[0m\u001b[0;34m\u001b[0m\u001b[0;34m\u001b[0m\u001b[0m\n\u001b[0m\u001b[1;32m      4\u001b[0m \u001b[0;34m\u001b[0m\u001b[0m\n\u001b[1;32m      5\u001b[0m \u001b[0mworld\u001b[0m\u001b[0;34m.\u001b[0m\u001b[0mplot\u001b[0m\u001b[0;34m(\u001b[0m\u001b[0medgecolor\u001b[0m \u001b[0;34m=\u001b[0m \u001b[0;34m'red'\u001b[0m\u001b[0;34m)\u001b[0m\u001b[0;34m\u001b[0m\u001b[0;34m\u001b[0m\u001b[0m\n",
            "\u001b[0;32m/usr/local/lib/python3.10/dist-packages/geopandas/io/file.py\u001b[0m in \u001b[0;36m_read_file\u001b[0;34m(filename, bbox, mask, columns, rows, engine, **kwargs)\u001b[0m\n\u001b[1;32m    292\u001b[0m \u001b[0;34m\u001b[0m\u001b[0m\n\u001b[1;32m    293\u001b[0m     \u001b[0;32mif\u001b[0m \u001b[0mengine\u001b[0m \u001b[0;34m==\u001b[0m \u001b[0;34m\"pyogrio\"\u001b[0m\u001b[0;34m:\u001b[0m\u001b[0;34m\u001b[0m\u001b[0;34m\u001b[0m\u001b[0m\n\u001b[0;32m--> 294\u001b[0;31m         return _read_file_pyogrio(\n\u001b[0m\u001b[1;32m    295\u001b[0m             \u001b[0mfilename\u001b[0m\u001b[0;34m,\u001b[0m \u001b[0mbbox\u001b[0m\u001b[0;34m=\u001b[0m\u001b[0mbbox\u001b[0m\u001b[0;34m,\u001b[0m \u001b[0mmask\u001b[0m\u001b[0;34m=\u001b[0m\u001b[0mmask\u001b[0m\u001b[0;34m,\u001b[0m \u001b[0mcolumns\u001b[0m\u001b[0;34m=\u001b[0m\u001b[0mcolumns\u001b[0m\u001b[0;34m,\u001b[0m \u001b[0mrows\u001b[0m\u001b[0;34m=\u001b[0m\u001b[0mrows\u001b[0m\u001b[0;34m,\u001b[0m \u001b[0;34m**\u001b[0m\u001b[0mkwargs\u001b[0m\u001b[0;34m\u001b[0m\u001b[0;34m\u001b[0m\u001b[0m\n\u001b[1;32m    296\u001b[0m         )\n",
            "\u001b[0;32m/usr/local/lib/python3.10/dist-packages/geopandas/io/file.py\u001b[0m in \u001b[0;36m_read_file_pyogrio\u001b[0;34m(path_or_bytes, bbox, mask, rows, **kwargs)\u001b[0m\n\u001b[1;32m    545\u001b[0m         \u001b[0mkwargs\u001b[0m\u001b[0;34m[\u001b[0m\u001b[0;34m\"columns\"\u001b[0m\u001b[0;34m]\u001b[0m \u001b[0;34m=\u001b[0m \u001b[0mkwargs\u001b[0m\u001b[0;34m.\u001b[0m\u001b[0mpop\u001b[0m\u001b[0;34m(\u001b[0m\u001b[0;34m\"include_fields\"\u001b[0m\u001b[0;34m)\u001b[0m\u001b[0;34m\u001b[0m\u001b[0;34m\u001b[0m\u001b[0m\n\u001b[1;32m    546\u001b[0m \u001b[0;34m\u001b[0m\u001b[0m\n\u001b[0;32m--> 547\u001b[0;31m     \u001b[0;32mreturn\u001b[0m \u001b[0mpyogrio\u001b[0m\u001b[0;34m.\u001b[0m\u001b[0mread_dataframe\u001b[0m\u001b[0;34m(\u001b[0m\u001b[0mpath_or_bytes\u001b[0m\u001b[0;34m,\u001b[0m \u001b[0mbbox\u001b[0m\u001b[0;34m=\u001b[0m\u001b[0mbbox\u001b[0m\u001b[0;34m,\u001b[0m \u001b[0;34m**\u001b[0m\u001b[0mkwargs\u001b[0m\u001b[0;34m)\u001b[0m\u001b[0;34m\u001b[0m\u001b[0;34m\u001b[0m\u001b[0m\n\u001b[0m\u001b[1;32m    548\u001b[0m \u001b[0;34m\u001b[0m\u001b[0m\n\u001b[1;32m    549\u001b[0m \u001b[0;34m\u001b[0m\u001b[0m\n",
            "\u001b[0;32m/usr/local/lib/python3.10/dist-packages/pyogrio/geopandas.py\u001b[0m in \u001b[0;36mread_dataframe\u001b[0;34m(path_or_buffer, layer, encoding, columns, read_geometry, force_2d, skip_features, max_features, where, bbox, mask, fids, sql, sql_dialect, fid_as_index, use_arrow, on_invalid, arrow_to_pandas_kwargs, **kwargs)\u001b[0m\n\u001b[1;32m    263\u001b[0m         \u001b[0;31m# as numpy does not directly support timezones.\u001b[0m\u001b[0;34m\u001b[0m\u001b[0;34m\u001b[0m\u001b[0m\n\u001b[1;32m    264\u001b[0m         \u001b[0mkwargs\u001b[0m\u001b[0;34m[\u001b[0m\u001b[0;34m\"datetime_as_string\"\u001b[0m\u001b[0;34m]\u001b[0m \u001b[0;34m=\u001b[0m \u001b[0;32mTrue\u001b[0m\u001b[0;34m\u001b[0m\u001b[0;34m\u001b[0m\u001b[0m\n\u001b[0;32m--> 265\u001b[0;31m     result = read_func(\n\u001b[0m\u001b[1;32m    266\u001b[0m         \u001b[0mpath_or_buffer\u001b[0m\u001b[0;34m,\u001b[0m\u001b[0;34m\u001b[0m\u001b[0;34m\u001b[0m\u001b[0m\n\u001b[1;32m    267\u001b[0m         \u001b[0mlayer\u001b[0m\u001b[0;34m=\u001b[0m\u001b[0mlayer\u001b[0m\u001b[0;34m,\u001b[0m\u001b[0;34m\u001b[0m\u001b[0;34m\u001b[0m\u001b[0m\n",
            "\u001b[0;32m/usr/local/lib/python3.10/dist-packages/pyogrio/raw.py\u001b[0m in \u001b[0;36mread\u001b[0;34m(path_or_buffer, layer, encoding, columns, read_geometry, force_2d, skip_features, max_features, where, bbox, mask, fids, sql, sql_dialect, return_fids, datetime_as_string, **kwargs)\u001b[0m\n\u001b[1;32m    196\u001b[0m     \u001b[0mdataset_kwargs\u001b[0m \u001b[0;34m=\u001b[0m \u001b[0m_preprocess_options_key_value\u001b[0m\u001b[0;34m(\u001b[0m\u001b[0mkwargs\u001b[0m\u001b[0;34m)\u001b[0m \u001b[0;32mif\u001b[0m \u001b[0mkwargs\u001b[0m \u001b[0;32melse\u001b[0m \u001b[0;34m{\u001b[0m\u001b[0;34m}\u001b[0m\u001b[0;34m\u001b[0m\u001b[0;34m\u001b[0m\u001b[0m\n\u001b[1;32m    197\u001b[0m \u001b[0;34m\u001b[0m\u001b[0m\n\u001b[0;32m--> 198\u001b[0;31m     return ogr_read(\n\u001b[0m\u001b[1;32m    199\u001b[0m         \u001b[0mget_vsi_path_or_buffer\u001b[0m\u001b[0;34m(\u001b[0m\u001b[0mpath_or_buffer\u001b[0m\u001b[0;34m)\u001b[0m\u001b[0;34m,\u001b[0m\u001b[0;34m\u001b[0m\u001b[0;34m\u001b[0m\u001b[0m\n\u001b[1;32m    200\u001b[0m         \u001b[0mlayer\u001b[0m\u001b[0;34m=\u001b[0m\u001b[0mlayer\u001b[0m\u001b[0;34m,\u001b[0m\u001b[0;34m\u001b[0m\u001b[0;34m\u001b[0m\u001b[0m\n",
            "\u001b[0;32mpyogrio/_io.pyx\u001b[0m in \u001b[0;36mpyogrio._io.ogr_read\u001b[0;34m()\u001b[0m\n",
            "\u001b[0;32mpyogrio/_io.pyx\u001b[0m in \u001b[0;36mpyogrio._io.ogr_open\u001b[0;34m()\u001b[0m\n",
            "\u001b[0;31mDataSourceError\u001b[0m: naturalearth_lowres: No such file or directory"
          ]
        }
      ]
    },
    {
      "cell_type": "code",
      "source": [
        "import periodictable\n",
        "\n",
        "Atomic_no = int(input(\"enter the atomic number : \"))\n",
        "\n",
        "element = periodictable.elements[Atomic_no]\n",
        "print('Name',element.name)\n",
        "print('Symobl', element.symbol)\n",
        "print('Atomic Number', element.density)\n",
        "print('Atomic Weight', element.mass)"
      ],
      "metadata": {
        "colab": {
          "base_uri": "https://localhost:8080/"
        },
        "id": "OWXs4O061TIX",
        "outputId": "a437cba1-5a95-49ac-fc09-a79b330b5562"
      },
      "execution_count": null,
      "outputs": [
        {
          "output_type": "stream",
          "name": "stdout",
          "text": [
            "enter the atomic number : 23\n",
            "Name vanadium\n",
            "Symobl V\n",
            "Atomic Number 6.11\n",
            "Atomic Weight 50.9415\n"
          ]
        }
      ]
    },
    {
      "cell_type": "code",
      "source": [
        "import pyshorteners\n",
        "long_url = input(\"enter the long url : \")\n",
        "type_tiny = pyshorteners.Shortener()\n",
        "short_url = type_tiny.tinyurl.short(long_url)\n",
        "print(\"The shortened url is :\" + short_url)\n"
      ],
      "metadata": {
        "id": "uFjqRA2m72fI",
        "colab": {
          "base_uri": "https://localhost:8080/"
        },
        "outputId": "2915db3e-4d1a-47ba-a720-f3ff9c1ad7ef"
      },
      "execution_count": null,
      "outputs": [
        {
          "output_type": "stream",
          "name": "stdout",
          "text": [
            "enter the long url : https://github.com/baiju012\n",
            "The shortened url is :https://tinyurl.com/24m9bdaf\n"
          ]
        }
      ]
    },
    {
      "cell_type": "code",
      "source": [
        "from rich.progress import Progress\n",
        "\n",
        "import time\n",
        "with Progress() as progress:\n",
        "    # task1 = progress.add_task(\"Task 1\", total=10)\n",
        "    # task2 = progress.add_task(\"Task 2\", total=10)\n",
        "    task = progress.add_task(\"Downloading\", total=100)\n",
        "\n",
        "\n",
        "    while not progress.finished:\n",
        "        progress.update(task, advance=1)\n",
        "        time.sleep(0.3)"
      ],
      "metadata": {
        "colab": {
          "base_uri": "https://localhost:8080/",
          "height": 33,
          "referenced_widgets": [
            "b2b59dbf6e114fd79bceb94489c936c4",
            "9bbbf74f0b774064bb707e946f3f7c6d"
          ]
        },
        "id": "JmVRG4Z31Ydb",
        "outputId": "f789578e-3f11-48eb-d887-63e67144477c"
      },
      "execution_count": null,
      "outputs": [
        {
          "output_type": "display_data",
          "data": {
            "text/plain": [
              "Output()"
            ],
            "application/vnd.jupyter.widget-view+json": {
              "version_major": 2,
              "version_minor": 0,
              "model_id": "b2b59dbf6e114fd79bceb94489c936c4"
            }
          },
          "metadata": {}
        },
        {
          "output_type": "display_data",
          "data": {
            "text/plain": [],
            "text/html": [
              "<pre style=\"white-space:pre;overflow-x:auto;line-height:normal;font-family:Menlo,'DejaVu Sans Mono',consolas,'Courier New',monospace\"></pre>\n"
            ]
          },
          "metadata": {}
        }
      ]
    },
    {
      "cell_type": "code",
      "source": [
        "import pubchempy as pcp\n",
        "\n",
        "chemical_name = input(\"enter the chemical name : \")\n",
        "try:\n",
        "  compound = pcp.get_compounds(chemical_name, 'name')[0]\n",
        "  print(f\"IPUAC Name : {compound.iupac_name}\")\n",
        "  print(f\"Common Name: {compound.synonyms[0]}\")\n",
        "  print(f\"Molecular Formula : {compound.molecular_formula}\")\n",
        "  print(f\"Molecular Weight : {compound.molecular_weight}\")\n",
        "\n",
        "except IndexError:\n",
        "  print(f\"No information found for  {chemical_name}\")\n"
      ],
      "metadata": {
        "colab": {
          "base_uri": "https://localhost:8080/"
        },
        "id": "EDyZOHsNzeA3",
        "outputId": "85542b43-1005-4a63-df0c-416f2e9eedec"
      },
      "execution_count": null,
      "outputs": [
        {
          "output_type": "stream",
          "name": "stdout",
          "text": [
            "enter the chemical name : methon\n",
            "IPUAC Name : 5,5-dimethylcyclohexane-1,3-dione\n",
            "Common Name: Dimedone\n",
            "Molecular Formula : C8H12O2\n",
            "Molecular Weight : 140.18\n"
          ]
        }
      ]
    },
    {
      "cell_type": "code",
      "source": [
        "import qrcode\n",
        "from PIL import Image\n",
        "\n",
        "\n",
        "data = input(\"Enter anything to generate Qr\")\n",
        "qr = qrcode.QRCode(version = 1, box_size = 10, border = 5)\n",
        "qr.add_data(data)\n",
        "qr.make(fit = True)\n",
        "image = qr.make_image(fill = 'black', back_color = 'white')\n",
        "image.save('qr.png' )\n",
        "Image.open('qr.png')"
      ],
      "metadata": {
        "id": "d2IpTR163HBf"
      },
      "execution_count": null,
      "outputs": []
    },
    {
      "cell_type": "code",
      "source": [
        "!pip install imdbpy"
      ],
      "metadata": {
        "id": "2rvWq4716cwL",
        "outputId": "d8aca124-10c5-4bad-9a50-0739c0623dda",
        "colab": {
          "base_uri": "https://localhost:8080/"
        }
      },
      "execution_count": null,
      "outputs": [
        {
          "output_type": "stream",
          "name": "stdout",
          "text": [
            "Collecting imdbpy\n",
            "  Downloading IMDbPY-2022.7.9-py3-none-any.whl.metadata (498 bytes)\n",
            "Collecting cinemagoer (from imdbpy)\n",
            "  Downloading cinemagoer-2023.5.1-py3-none-any.whl.metadata (2.9 kB)\n",
            "Requirement already satisfied: SQLAlchemy in /usr/local/lib/python3.10/dist-packages (from cinemagoer->imdbpy) (2.0.36)\n",
            "Requirement already satisfied: lxml in /usr/local/lib/python3.10/dist-packages (from cinemagoer->imdbpy) (5.3.0)\n",
            "Requirement already satisfied: typing-extensions>=4.6.0 in /usr/local/lib/python3.10/dist-packages (from SQLAlchemy->cinemagoer->imdbpy) (4.12.2)\n",
            "Requirement already satisfied: greenlet!=0.4.17 in /usr/local/lib/python3.10/dist-packages (from SQLAlchemy->cinemagoer->imdbpy) (3.1.1)\n",
            "Downloading IMDbPY-2022.7.9-py3-none-any.whl (1.2 kB)\n",
            "Downloading cinemagoer-2023.5.1-py3-none-any.whl (297 kB)\n",
            "\u001b[2K   \u001b[90m━━━━━━━━━━━━━━━━━━━━━━━━━━━━━━━━━━━━━━━━\u001b[0m \u001b[32m297.2/297.2 kB\u001b[0m \u001b[31m4.7 MB/s\u001b[0m eta \u001b[36m0:00:00\u001b[0m\n",
            "\u001b[?25hInstalling collected packages: cinemagoer, imdbpy\n",
            "Successfully installed cinemagoer-2023.5.1 imdbpy-2022.7.9\n"
          ]
        }
      ]
    },
    {
      "cell_type": "code",
      "source": [
        "from imdb import IMDb\n",
        "ia = IMDb()\n",
        "movie_name = input(\"Enter the movie name : \")\n",
        "movies = ia.search_movie(movie_name)\n",
        "\n",
        "if movies:\n",
        "  movie = movies[0]\n",
        "  ia.update(movie)\n",
        "  directors = movie.get('directors')\n",
        "  if directors:\n",
        "    print('Directors:')\n",
        "    for director in directors:\n",
        "      print(director['name'])\n",
        "  else:\n",
        "    print(\"No director information available\")\n",
        "else:\n",
        "  print(f\"No movies found with the title '{movie_name}\")\n",
        "\n"
      ],
      "metadata": {
        "id": "C7lzm4Ev42AJ",
        "outputId": "7e7c7351-7921-453d-a3cf-fb06826ca37b",
        "colab": {
          "base_uri": "https://localhost:8080/"
        }
      },
      "execution_count": null,
      "outputs": [
        {
          "output_type": "stream",
          "name": "stdout",
          "text": [
            "Enter the movie name : dharkan\n",
            "Directors:\n",
            "Devendra Goel\n"
          ]
        }
      ]
    },
    {
      "cell_type": "code",
      "source": [
        "!pip install wmi"
      ],
      "metadata": {
        "id": "rHuzf_Bg19pg",
        "outputId": "9362dee1-378b-4c96-983f-69aea2fa1eb0",
        "colab": {
          "base_uri": "https://localhost:8080/"
        }
      },
      "execution_count": null,
      "outputs": [
        {
          "output_type": "stream",
          "name": "stdout",
          "text": [
            "Collecting wmi\n",
            "  Downloading WMI-1.5.1-py2.py3-none-any.whl.metadata (3.6 kB)\n",
            "INFO: pip is looking at multiple versions of wmi to determine which version is compatible with other requirements. This could take a while.\n",
            "  Downloading WMI-1.5-py3-none-any.whl.metadata (3.6 kB)\n",
            "  Downloading WMI-1.4.9.zip (26 kB)\n",
            "  Preparing metadata (setup.py) ... \u001b[?25l\u001b[?25hdone\n",
            "Building wheels for collected packages: wmi\n",
            "  Building wheel for wmi (setup.py) ... \u001b[?25l\u001b[?25hdone\n",
            "  Created wheel for wmi: filename=WMI-1.4.9-py3-none-any.whl size=27269 sha256=e2eff00b596552912269fe0df6bc65d4ce92f12fc201d9a6c2eeab88058c104a\n",
            "  Stored in directory: /root/.cache/pip/wheels/de/14/d6/c9ad27e194eaccdf484df5b64bc2906703a9b619931494a3da\n",
            "Successfully built wmi\n",
            "Installing collected packages: wmi\n",
            "Successfully installed wmi-1.4.9\n"
          ]
        }
      ]
    },
    {
      "cell_type": "code",
      "source": [
        "import os\n",
        "import platform\n",
        "\n",
        "print(f\"OS Name: {os.name}\")\n",
        "print(f\"OS Version: {platform.system()} {platform.release()}\")\n",
        "print(f\"OS Architecture: {platform.machine()}\")\n",
        "print(f\"Hostname: {platform.node()}\")"
      ],
      "metadata": {
        "id": "E0G-Dnjr6A82",
        "outputId": "f03db78a-a5a0-45e2-c588-9a2c3cc1703d",
        "colab": {
          "base_uri": "https://localhost:8080/"
        }
      },
      "execution_count": null,
      "outputs": [
        {
          "output_type": "stream",
          "name": "stdout",
          "text": [
            "OS Name: posix\n",
            "OS Version: Linux 6.1.85+\n",
            "OS Architecture: x86_64\n",
            "Hostname: 13a8e658b8a7\n"
          ]
        }
      ]
    },
    {
      "cell_type": "code",
      "source": [
        "!pip install textblob\n"
      ],
      "metadata": {
        "id": "9Iuegu7L0ctl",
        "outputId": "cb376ee1-4280-4e4a-fa21-d861c3c09edc",
        "colab": {
          "base_uri": "https://localhost:8080/"
        }
      },
      "execution_count": null,
      "outputs": [
        {
          "output_type": "stream",
          "name": "stdout",
          "text": [
            "Requirement already satisfied: textblob in /usr/local/lib/python3.10/dist-packages (0.17.1)\n",
            "Requirement already satisfied: nltk>=3.1 in /usr/local/lib/python3.10/dist-packages (from textblob) (3.8.1)\n",
            "Requirement already satisfied: click in /usr/local/lib/python3.10/dist-packages (from nltk>=3.1->textblob) (8.1.7)\n",
            "Requirement already satisfied: joblib in /usr/local/lib/python3.10/dist-packages (from nltk>=3.1->textblob) (1.4.2)\n",
            "Requirement already satisfied: regex>=2021.8.3 in /usr/local/lib/python3.10/dist-packages (from nltk>=3.1->textblob) (2024.9.11)\n",
            "Requirement already satisfied: tqdm in /usr/local/lib/python3.10/dist-packages (from nltk>=3.1->textblob) (4.66.6)\n",
            "Enter your sentece: watterr\n",
            "corrected  : matter\n"
          ]
        }
      ]
    },
    {
      "cell_type": "code",
      "source": [
        "from textblob import TextBlob\n",
        "\n",
        "def correct_grammer(text):\n",
        "  blob = TextBlob(text)\n",
        "  corrected_text = str(blob.correct())\n",
        "  return corrected_text\n",
        "\n",
        "\n",
        "text = input(\"Enter your sentece: \")\n",
        "corrected_text = correct_grammer(text)\n",
        "print(f\"corrected  : {corrected_text}\")"
      ],
      "metadata": {
        "id": "2Dk7YiQn3-hW",
        "outputId": "24ab7638-49e3-4106-8d5a-5df2c45a0a6a",
        "colab": {
          "base_uri": "https://localhost:8080/"
        }
      },
      "execution_count": null,
      "outputs": [
        {
          "output_type": "stream",
          "name": "stdout",
          "text": [
            "Enter your sentece: cattt\n",
            "corrected  : carts\n"
          ]
        }
      ]
    },
    {
      "cell_type": "code",
      "source": [
        "from rembg import remove\n",
        "from PIL import Image\n",
        "input_path = 'input.jpg'\n",
        "output_path = 'output.png'\n",
        "\n",
        "input = Image.open(input_path)\n",
        "output = remove(input)\n",
        "output.save(output_path)\n",
        "Image.open('clgot.png')"
      ],
      "metadata": {
        "id": "ITniCP7A3pVx"
      },
      "execution_count": null,
      "outputs": []
    },
    {
      "cell_type": "code",
      "source": [
        "!pip install secrets"
      ],
      "metadata": {
        "colab": {
          "base_uri": "https://localhost:8080/"
        },
        "id": "UMtQbqmpI0Ks",
        "outputId": "cbe10267-bfcd-4614-ea89-3fae9dd3700b"
      },
      "execution_count": null,
      "outputs": [
        {
          "output_type": "stream",
          "name": "stdout",
          "text": [
            "Collecting secrets\n",
            "  Downloading secrets-1.0.2.tar.gz (7.9 kB)\n",
            "  Preparing metadata (setup.py) ... \u001b[?25l\u001b[?25hdone\n",
            "Collecting configobj (from secrets)\n",
            "  Downloading configobj-5.0.9.tar.gz (101 kB)\n",
            "\u001b[2K     \u001b[90m━━━━━━━━━━━━━━━━━━━━━━━━━━━━━━━━━━━━━━━━\u001b[0m \u001b[32m101.5/101.5 kB\u001b[0m \u001b[31m1.5 MB/s\u001b[0m eta \u001b[36m0:00:00\u001b[0m\n",
            "\u001b[?25h  Installing build dependencies ... \u001b[?25l\u001b[?25hdone\n",
            "  Getting requirements to build wheel ... \u001b[?25l\u001b[?25hdone\n",
            "  Preparing metadata (pyproject.toml) ... \u001b[?25l\u001b[?25hdone\n",
            "Collecting python-ldap (from secrets)\n",
            "  Downloading python-ldap-3.4.4.tar.gz (377 kB)\n",
            "\u001b[2K     \u001b[90m━━━━━━━━━━━━━━━━━━━━━━━━━━━━━━━━━━━━━━━━\u001b[0m \u001b[32m377.9/377.9 kB\u001b[0m \u001b[31m8.0 MB/s\u001b[0m eta \u001b[36m0:00:00\u001b[0m\n",
            "\u001b[?25h  Installing build dependencies ... \u001b[?25l\u001b[?25hdone\n",
            "  Getting requirements to build wheel ... \u001b[?25l\u001b[?25hdone\n",
            "  Preparing metadata (pyproject.toml) ... \u001b[?25l\u001b[?25hdone\n",
            "Collecting systematic>=3.0.0 (from secrets)\n",
            "  Downloading systematic-4.8.7-py3-none-any.whl.metadata (803 bytes)\n",
            "Collecting python-gnupg (from secrets)\n",
            "  Downloading python_gnupg-0.5.3-py2.py3-none-any.whl.metadata (1.9 kB)\n",
            "Requirement already satisfied: future in /usr/local/lib/python3.10/dist-packages (from systematic>=3.0.0->secrets) (1.0.0)\n",
            "Requirement already satisfied: pyasn1>=0.3.7 in /usr/local/lib/python3.10/dist-packages (from python-ldap->secrets) (0.6.1)\n",
            "Requirement already satisfied: pyasn1-modules>=0.1.5 in /usr/local/lib/python3.10/dist-packages (from python-ldap->secrets) (0.4.1)\n",
            "Downloading systematic-4.8.7-py3-none-any.whl (83 kB)\n",
            "\u001b[2K   \u001b[90m━━━━━━━━━━━━━━━━━━━━━━━━━━━━━━━━━━━━━━━━\u001b[0m \u001b[32m83.8/83.8 kB\u001b[0m \u001b[31m6.4 MB/s\u001b[0m eta \u001b[36m0:00:00\u001b[0m\n",
            "\u001b[?25hDownloading python_gnupg-0.5.3-py2.py3-none-any.whl (21 kB)\n",
            "Building wheels for collected packages: secrets, configobj, python-ldap\n",
            "  Building wheel for secrets (setup.py) ... \u001b[?25l\u001b[?25hdone\n",
            "  Created wheel for secrets: filename=secrets-1.0.2-py3-none-any.whl size=11428 sha256=4d1bc16c491580d74efffa6a39cb15190fc7174052562c2a7d80a14529990912\n",
            "  Stored in directory: /root/.cache/pip/wheels/75/ba/10/9524adaf68a680a4a69d1e8b099dcc222f940ae36b66e34929\n",
            "  Building wheel for configobj (pyproject.toml) ... \u001b[?25l\u001b[?25hdone\n",
            "  Created wheel for configobj: filename=configobj-5.0.9-py2.py3-none-any.whl size=35615 sha256=e7c8d14a2d38d5b2239be41cda76b6284b8d1d71b436144e79c031854a722694\n",
            "  Stored in directory: /root/.cache/pip/wheels/a1/6c/03/6c5e3cf1a6e4b9e2fc5c4409be4abc5a8268bd9c878739cb32\n",
            "  \u001b[1;31merror\u001b[0m: \u001b[1msubprocess-exited-with-error\u001b[0m\n",
            "  \n",
            "  \u001b[31m×\u001b[0m \u001b[32mBuilding wheel for python-ldap \u001b[0m\u001b[1;32m(\u001b[0m\u001b[32mpyproject.toml\u001b[0m\u001b[1;32m)\u001b[0m did not run successfully.\n",
            "  \u001b[31m│\u001b[0m exit code: \u001b[1;36m1\u001b[0m\n",
            "  \u001b[31m╰─>\u001b[0m See above for output.\n",
            "  \n",
            "  \u001b[1;35mnote\u001b[0m: This error originates from a subprocess, and is likely not a problem with pip.\n",
            "  Building wheel for python-ldap (pyproject.toml) ... \u001b[?25l\u001b[?25herror\n",
            "\u001b[31m  ERROR: Failed building wheel for python-ldap\u001b[0m\u001b[31m\n",
            "\u001b[0mSuccessfully built secrets configobj\n",
            "Failed to build python-ldap\n",
            "\u001b[31mERROR: ERROR: Failed to build installable wheels for some pyproject.toml based projects (python-ldap)\u001b[0m\u001b[31m\n",
            "\u001b[0m"
          ]
        }
      ]
    },
    {
      "cell_type": "code",
      "source": [
        "import secrets\n",
        "def generate_otp(length = 6):\n",
        "  return ''.join(str(secrets.randbelow(10)) for _ in range(length))\n",
        "\n",
        "\n",
        "print(\"Generated OTP:\", generate_otp())"
      ],
      "metadata": {
        "colab": {
          "base_uri": "https://localhost:8080/"
        },
        "id": "Cv5R9wlcI5t1",
        "outputId": "4338b88a-5e7b-4406-c77e-83c71fb48c9a"
      },
      "execution_count": null,
      "outputs": [
        {
          "output_type": "stream",
          "name": "stdout",
          "text": [
            "Generated OTP: 111662\n"
          ]
        }
      ]
    },
    {
      "cell_type": "code",
      "source": [
        "import os\n",
        "import urllib.request as urllib2\n",
        "import json\n",
        "\n",
        "while True:\n",
        "  ip = input(\"what is your target IP : \")\n",
        "  url = \"http://ip-api.com/json/\"\n",
        "  response = urllib2.urlopen(url+ip)\n",
        "  data = response.read()\n",
        "  values = json.loads(data)\n",
        "\n",
        "  print(\"IP : \" + values[\"query\"])\n",
        "  print(\"City : \" + values[\"city\"])\n",
        "  print(\"Region : \" + values[\"region\"])\n",
        "  print(\"Country : \" + values[\"country\"])\n",
        "  print(\"Country Code: \" + values[\"countryCode\"])  # Added countryCode\n",
        "  print(\"Region Name: \" + values.get(\"regionName\", \"N/A\"))  # Added regionName\n",
        "  # Geographic Details\n",
        "  print(\"Latitude : \" + str(values[\"lat\"]))\n",
        "  print(\"Longitude : \" +str( values[\"lon\"]))\n",
        "  print(\"Timezone: \" + values[\"timezone\"])\n",
        "\n",
        "  print(\"Zip : \" + values[\"zip\"])\n",
        "  print(\"Org : \" + values[\"org\"])\n",
        "  print(\"As : \" + values[\"as\"])\n",
        "  print(\"Status : \" + values[\"status\"])\n",
        "  #print(\"Message : \" + str(values[\"message\"]))\n",
        "  print(\"Query : \" + values[\"query\"])\n",
        " # Additional Information:\n",
        "  print(\"ISP: \" + values.get(\"isp\", \"N/A\"))  # Get ISP, if available, otherwise \"N/A\"\n",
        "  print(\"Reverse DNS: \" + values.get(\"reverse\", \"N/A\"))  # Get reverse DNS, if available\n",
        "  print(\"Mobile Connection: \" + str(values.get(\"mobile\", False)))  # Check if mobile connection\n",
        "  print(\"Proxy Connection: \" + str(values.get(\"proxy\", False)))  # Check if proxy connection\n",
        "  print(\"Hosting: \" + str(values.get(\"hosting\", False)))  # Check if hosting server\n",
        "\n",
        "\n",
        "  break\n",
        "\n"
      ],
      "metadata": {
        "colab": {
          "base_uri": "https://localhost:8080/"
        },
        "id": "IGfMVobhJdG7",
        "outputId": "922df635-42ee-45a4-c221-58071b7a798c"
      },
      "execution_count": null,
      "outputs": [
        {
          "output_type": "stream",
          "name": "stdout",
          "text": [
            "what is your target IP : 112.196.12.13\n",
            "IP : 112.196.12.13\n",
            "City : Chandigarh\n",
            "Region : CH\n",
            "Country : India\n",
            "Latitude : 30.7339\n",
            "Longitude : 76.7889\n",
            "Timezone: Asia/Kolkata\n",
            "Zip : 160017\n",
            "Org : Hfcl Infotel LTD\n",
            "As : AS17917 Quadrant Televentures Limited\n",
            "Status : success\n",
            "Query : 112.196.12.13\n",
            "ISP: Quadrant Televentures Limited\n",
            "Reverse DNS: N/A\n",
            "Mobile Connection: False\n",
            "Proxy Connection: False\n",
            "Hosting: False\n"
          ]
        }
      ]
    },
    {
      "cell_type": "code",
      "source": [
        "import os\n",
        "import urllib.request as urllib2\n",
        "import json\n",
        "\n",
        "while True:\n",
        "    ip = input(\"What is your target IP: \")\n",
        "    url = \"http://ip-api.com/json/\"\n",
        "    response = urllib2.urlopen(url + ip)\n",
        "    data = response.read()\n",
        "    values = json.loads(data)\n",
        "\n",
        "    # Basic Information\n",
        "    print(\"\\n----- Basic Information -----\")\n",
        "    print(\"IP: \" + values[\"query\"])\n",
        "    print(\"City: \" + values[\"city\"])\n",
        "    print(\"Region: \" + values[\"region\"])\n",
        "    print(\"Region Name: \" + values.get(\"regionName\", \"N/A\"))  # Added regionName\n",
        "    print(\"Country: \" + values[\"country\"])\n",
        "    print(\"Country Code: \" + values[\"countryCode\"])  # Added countryCode\n",
        "\n",
        "    # Geographic Details\n",
        "    print(\"\\n----- Geographic Details -----\")\n",
        "    print(\"Latitude: \" + str(values[\"lat\"]))\n",
        "    print(\"Longitude: \" + str(values[\"lon\"]))\n",
        "    print(\"Timezone: \" + values[\"timezone\"])\n",
        "\n",
        "    # Network Details\n",
        "    print(\"\\n----- Network Details -----\")\n",
        "    print(\"ISP: \" + values.get(\"isp\", \"N/A\"))\n",
        "    print(\"AS: \" + values.get(\"as\", \"N/A\"))\n",
        "    print(\"Organization: \" + values.get(\"org\", \"N/A\"))\n",
        "    print(\"Reverse DNS: \" + values.get(\"reverse\", \"N/A\"))\n",
        "\n",
        "    # Connection Details\n",
        "    print(\"\\n----- Connection Details -----\")\n",
        "    print(\"Mobile Connection: \" + str(values.get(\"mobile\", False)))\n",
        "    print(\"Proxy Connection: \" + str(values.get(\"proxy\", False)))\n",
        "    print(\"Hosting: \" + str(values.get(\"hosting\", False)))\n",
        "    print(\"Zip Code: \" + values.get(\"zip\", \"N/A\"))\n",
        "    print(\"Status: \" + values[\"status\"])\n",
        "\n",
        "    # Currency Details (if available)\n",
        "    print(\"\\n----- Currency Details (if available) -----\")\n",
        "    currency = values.get(\"currency\")\n",
        "    if currency:\n",
        "        print(\"Currency: \" + currency)\n",
        "        print(\"Currency Name: \" + values.get(\"currencyName\", \"N/A\"))\n",
        "        print(\"Currency Symbol: \" + values.get(\"currencySymbol\", \"N/A\"))\n",
        "    else:\n",
        "        print(\"Currency information not available for this IP.\")\n",
        "\n",
        "    break"
      ],
      "metadata": {
        "colab": {
          "base_uri": "https://localhost:8080/"
        },
        "id": "tWD65XdXKz3W",
        "outputId": "5c8c68e3-c7da-4bfc-a9af-7b351def3d2b"
      },
      "execution_count": null,
      "outputs": [
        {
          "output_type": "stream",
          "name": "stdout",
          "text": [
            "What is your target IP: 112.196.13.13\n",
            "\n",
            "----- Basic Information -----\n",
            "IP: 112.196.13.13\n",
            "City: Bathinda\n",
            "Region: PB\n",
            "Region Name: Punjab\n",
            "Country: India\n",
            "Country Code: IN\n",
            "\n",
            "----- Geographic Details -----\n",
            "Latitude: 30.206\n",
            "Longitude: 74.9302\n",
            "Timezone: Asia/Kolkata\n",
            "\n",
            "----- Network Details -----\n",
            "ISP: Quadrant Televentures Limited\n",
            "AS: AS17917 Quadrant Televentures Limited\n",
            "Organization: Hfcl Infotel LTD\n",
            "Reverse DNS: N/A\n",
            "\n",
            "----- Connection Details -----\n",
            "Mobile Connection: False\n",
            "Proxy Connection: False\n",
            "Hosting: False\n",
            "Zip Code: 151005\n",
            "Status: success\n",
            "\n",
            "----- Currency Details (if available) -----\n",
            "Currency information not available for this IP.\n"
          ]
        }
      ]
    },
    {
      "cell_type": "code",
      "source": [
        "import seaborn as sns\n",
        "import matplotlib.pyplot as plt\n",
        "import pandas as pd\n",
        "import numpy as np\n",
        "\n",
        "data = np.random.rand(10,12)\n",
        "sns.heatmap(data, cmap = 'viridis')\n",
        "plt.show()"
      ],
      "metadata": {
        "colab": {
          "base_uri": "https://localhost:8080/",
          "height": 430
        },
        "id": "wW568a7FN-wV",
        "outputId": "e5e772b6-7c8f-4239-8b1b-16c58e6feb6a"
      },
      "execution_count": null,
      "outputs": [
        {
          "output_type": "display_data",
          "data": {
            "text/plain": [
              "<Figure size 640x480 with 2 Axes>"
            ],
            "image/png": "[encoded data removed]"
          },
          "metadata": {}
        }
      ]
    },
    {
      "cell_type": "code",
      "source": [
        "!pip install captcha"
      ],
      "metadata": {
        "id": "vm79kVVHbk5s",
        "outputId": "564250dc-7e02-4fb9-8c40-65534109741b",
        "colab": {
          "base_uri": "https://localhost:8080/"
        }
      },
      "execution_count": null,
      "outputs": [
        {
          "output_type": "stream",
          "name": "stdout",
          "text": [
            "Collecting captcha\n",
            "  Downloading captcha-0.6.0-py3-none-any.whl.metadata (2.1 kB)\n",
            "Requirement already satisfied: Pillow in /usr/local/lib/python3.10/dist-packages (from captcha) (10.4.0)\n",
            "Downloading captcha-0.6.0-py3-none-any.whl (102 kB)\n",
            "\u001b[?25l   \u001b[90m━━━━━━━━━━━━━━━━━━━━━━━━━━━━━━━━━━━━━━━━\u001b[0m \u001b[32m0.0/102.2 kB\u001b[0m \u001b[31m?\u001b[0m eta \u001b[36m-:--:--\u001b[0m\r\u001b[2K   \u001b[90m━━━━━━━━━━━━━━━━━━━━━━━━━━━━━━━━━━━━━━━━\u001b[0m \u001b[32m102.2/102.2 kB\u001b[0m \u001b[31m2.8 MB/s\u001b[0m eta \u001b[36m0:00:00\u001b[0m\n",
            "\u001b[?25hInstalling collected packages: captcha\n",
            "Successfully installed captcha-0.6.0\n"
          ]
        }
      ]
    },
    {
      "cell_type": "code",
      "source": [
        "import random\n",
        "from captcha.audio import AudioCaptcha\n",
        "\n",
        "def generate_random_captcha(length = 6):\n",
        "  characters = '123456789'\n",
        "  captcha_text =''.join(random.choice(characters) for _ in range(length))\n",
        "  return captcha_text\n",
        "\n",
        "captcha_text = generate_random_captcha()\n",
        "audio = AudioCaptcha()\n",
        "print(\"Generated Captcha text : \", captcha_text)\n",
        "audio_captcha = audio.generate(captcha_text)\n",
        "print(\"Audio Captcha saved as audio_captcha.wav\")"
      ],
      "metadata": {
        "id": "8rxHBVe1bwr-",
        "outputId": "e663760f-7789-435f-ea67-6aba8034afec",
        "colab": {
          "base_uri": "https://localhost:8080/"
        }
      },
      "execution_count": null,
      "outputs": [
        {
          "output_type": "stream",
          "name": "stdout",
          "text": [
            "Generated Captcha text :  585343\n",
            "Audio Captcha saved as audio_captcha.wav\n"
          ]
        }
      ]
    },
    {
      "cell_type": "code",
      "source": [
        "!pip install wordcloud\n"
      ],
      "metadata": {
        "id": "QiszIoGkcsbQ",
        "outputId": "f50124c1-3647-4488-afc5-de773608fd71",
        "colab": {
          "base_uri": "https://localhost:8080/"
        }
      },
      "execution_count": null,
      "outputs": [
        {
          "output_type": "stream",
          "name": "stdout",
          "text": [
            "Requirement already satisfied: wordcloud in /usr/local/lib/python3.10/dist-packages (1.9.3)\n",
            "Requirement already satisfied: numpy>=1.6.1 in /usr/local/lib/python3.10/dist-packages (from wordcloud) (1.26.4)\n",
            "Requirement already satisfied: pillow in /usr/local/lib/python3.10/dist-packages (from wordcloud) (10.4.0)\n",
            "Requirement already satisfied: matplotlib in /usr/local/lib/python3.10/dist-packages (from wordcloud) (3.8.0)\n",
            "Requirement already satisfied: contourpy>=1.0.1 in /usr/local/lib/python3.10/dist-packages (from matplotlib->wordcloud) (1.3.0)\n",
            "Requirement already satisfied: cycler>=0.10 in /usr/local/lib/python3.10/dist-packages (from matplotlib->wordcloud) (0.12.1)\n",
            "Requirement already satisfied: fonttools>=4.22.0 in /usr/local/lib/python3.10/dist-packages (from matplotlib->wordcloud) (4.54.1)\n",
            "Requirement already satisfied: kiwisolver>=1.0.1 in /usr/local/lib/python3.10/dist-packages (from matplotlib->wordcloud) (1.4.7)\n",
            "Requirement already satisfied: packaging>=20.0 in /usr/local/lib/python3.10/dist-packages (from matplotlib->wordcloud) (24.1)\n",
            "Requirement already satisfied: pyparsing>=2.3.1 in /usr/local/lib/python3.10/dist-packages (from matplotlib->wordcloud) (3.2.0)\n",
            "Requirement already satisfied: python-dateutil>=2.7 in /usr/local/lib/python3.10/dist-packages (from matplotlib->wordcloud) (2.8.2)\n",
            "Requirement already satisfied: six>=1.5 in /usr/local/lib/python3.10/dist-packages (from python-dateutil>=2.7->matplotlib->wordcloud) (1.16.0)\n"
          ]
        }
      ]
    },
    {
      "cell_type": "code",
      "source": [
        "import matplotlib.pyplot as plt\n",
        "from wordcloud import WordCloud\n",
        "\n",
        "text = input(\"Enter setence for word cloud :\")\n",
        "wordcloud = WordCloud().generate(text)\n",
        "plt.imshow(wordcloud, interpolation = 'bilinear')\n",
        "plt.axis('off')\n",
        "plt.show()"
      ],
      "metadata": {
        "id": "TxlAN7DZc9Ta",
        "outputId": "c2657462-9b9c-40c9-b75a-603778019c35",
        "colab": {
          "base_uri": "https://localhost:8080/",
          "height": 322
        }
      },
      "execution_count": null,
      "outputs": [
        {
          "name": "stdout",
          "output_type": "stream",
          "text": [
            "Enter setence for word cloud :pYTHON I SHIGH LEVEL, INTERPRETED PROGRAMMIN G LANGUAGE EASY TO LEARN\n"
          ]
        },
        {
          "output_type": "display_data",
          "data": {
            "text/plain": [
              "<Figure size 640x480 with 1 Axes>"
            ],
            "image/png": "[encoded data removed]"
          },
          "metadata": {}
        }
      ]
    },
    {
      "cell_type": "code",
      "source": [
        "import folium\n",
        "m = folium.Map(location = [37.3850, 128.4867], zoom_start = 12)\n",
        "folium.CircleMarker(\n",
        "    location = [37.3850, 128.4867],\n",
        "    radius = 50,\n",
        "    popup = \"\",\n",
        "    color = 'red',\n",
        "    fill = True,\n",
        "    fill_color = 'red',\n",
        ").add_to(m)\n",
        "m\n"
      ],
      "metadata": {
        "id": "mT1wOzXodaMz",
        "outputId": "7b396d2a-700e-4d1a-c674-5c75a9565aa5",
        "colab": {
          "base_uri": "https://localhost:8080/",
          "height": 395
        }
      },
      "execution_count": null,
      "outputs": [
        {
          "output_type": "execute_result",
          "data": {
            "text/plain": [
              "<folium.folium.Map at 0x7b64362d01c0>"
            ],
            "text/html": [
              "<div style=\"width:100%;\"><div style=\"position:relative;width:100%;height:0;padding-bottom:60%;\"><span style=\"color:#565656\">Make this Notebook Trusted to load map: File -> Trust Notebook</span><iframe srcdoc=\"&lt;!DOCTYPE html&gt;\n",
              "&lt;html&gt;\n",
              "&lt;head&gt;\n",
              "    \n",
              "    &lt;meta http-equiv=&quot;content-type&quot; content=&quot;text/html; charset=UTF-8&quot; /&gt;\n",
              "    \n",
              "        &lt;script&gt;\n",
              "            L_NO_TOUCH = false;\n",
              "            L_DISABLE_3D = false;\n",
              "        &lt;/script&gt;\n",
              "    \n",
              "    &lt;style&gt;html, body {width: 100%;height: 100%;margin: 0;padding: 0;}&lt;/style&gt;\n",
              "    &lt;style&gt;#map {position:absolute;top:0;bottom:0;right:0;left:0;}&lt;/style&gt;\n",
              "    &lt;script src=&quot;https://cdn.jsdelivr.net/npm/leaflet@1.9.3/dist/leaflet.js&quot;&gt;&lt;/script&gt;\n",
              "    &lt;script src=&quot;https://code.jquery.com/jquery-3.7.1.min.js&quot;&gt;&lt;/script&gt;\n",
              "    &lt;script src=&quot;https://cdn.jsdelivr.net/npm/bootstrap@5.2.2/dist/js/bootstrap.bundle.min.js&quot;&gt;&lt;/script&gt;\n",
              "    &lt;script src=&quot;https://cdnjs.cloudflare.com/ajax/libs/Leaflet.awesome-markers/2.0.2/leaflet.awesome-markers.js&quot;&gt;&lt;/script&gt;\n",
              "    &lt;link rel=&quot;stylesheet&quot; href=&quot;https://cdn.jsdelivr.net/npm/leaflet@1.9.3/dist/leaflet.css&quot;/&gt;\n",
              "    &lt;link rel=&quot;stylesheet&quot; href=&quot;https://cdn.jsdelivr.net/npm/bootstrap@5.2.2/dist/css/bootstrap.min.css&quot;/&gt;\n",
              "    &lt;link rel=&quot;stylesheet&quot; href=&quot;https://netdna.bootstrapcdn.com/bootstrap/3.0.0/css/bootstrap-glyphicons.css&quot;/&gt;\n",
              "    &lt;link rel=&quot;stylesheet&quot; href=&quot;https://cdn.jsdelivr.net/npm/@fortawesome/fontawesome-free@6.2.0/css/all.min.css&quot;/&gt;\n",
              "    &lt;link rel=&quot;stylesheet&quot; href=&quot;https://cdnjs.cloudflare.com/ajax/libs/Leaflet.awesome-markers/2.0.2/leaflet.awesome-markers.css&quot;/&gt;\n",
              "    &lt;link rel=&quot;stylesheet&quot; href=&quot;https://cdn.jsdelivr.net/gh/python-visualization/folium/folium/templates/leaflet.awesome.rotate.min.css&quot;/&gt;\n",
              "    \n",
              "            &lt;meta name=&quot;viewport&quot; content=&quot;width=device-width,\n",
              "                initial-scale=1.0, maximum-scale=1.0, user-scalable=no&quot; /&gt;\n",
              "            &lt;style&gt;\n",
              "                #map_ce70a85516f963737709d35e0b1bf505 {\n",
              "                    position: relative;\n",
              "                    width: 100.0%;\n",
              "                    height: 100.0%;\n",
              "                    left: 0.0%;\n",
              "                    top: 0.0%;\n",
              "                }\n",
              "                .leaflet-container { font-size: 1rem; }\n",
              "            &lt;/style&gt;\n",
              "        \n",
              "&lt;/head&gt;\n",
              "&lt;body&gt;\n",
              "    \n",
              "    \n",
              "            &lt;div class=&quot;folium-map&quot; id=&quot;map_ce70a85516f963737709d35e0b1bf505&quot; &gt;&lt;/div&gt;\n",
              "        \n",
              "&lt;/body&gt;\n",
              "&lt;script&gt;\n",
              "    \n",
              "    \n",
              "            var map_ce70a85516f963737709d35e0b1bf505 = L.map(\n",
              "                &quot;map_ce70a85516f963737709d35e0b1bf505&quot;,\n",
              "                {\n",
              "                    center: [37.385, 128.4867],\n",
              "                    crs: L.CRS.EPSG3857,\n",
              "                    zoom: 12,\n",
              "                    zoomControl: true,\n",
              "                    preferCanvas: false,\n",
              "                }\n",
              "            );\n",
              "\n",
              "            \n",
              "\n",
              "        \n",
              "    \n",
              "            var tile_layer_a692e64d73557c413d92532b4a60a8b0 = L.tileLayer(\n",
              "                &quot;https://tile.openstreetmap.org/{z}/{x}/{y}.png&quot;,\n",
              "                {&quot;attribution&quot;: &quot;\\u0026copy; \\u003ca href=\\&quot;https://www.openstreetmap.org/copyright\\&quot;\\u003eOpenStreetMap\\u003c/a\\u003e contributors&quot;, &quot;detectRetina&quot;: false, &quot;maxNativeZoom&quot;: 19, &quot;maxZoom&quot;: 19, &quot;minZoom&quot;: 0, &quot;noWrap&quot;: false, &quot;opacity&quot;: 1, &quot;subdomains&quot;: &quot;abc&quot;, &quot;tms&quot;: false}\n",
              "            );\n",
              "        \n",
              "    \n",
              "            tile_layer_a692e64d73557c413d92532b4a60a8b0.addTo(map_ce70a85516f963737709d35e0b1bf505);\n",
              "        \n",
              "    \n",
              "            var circle_marker_fc4eee73c0381389b78c7391ca87fca5 = L.circleMarker(\n",
              "                [37.385, 128.4867],\n",
              "                {&quot;bubblingMouseEvents&quot;: true, &quot;color&quot;: &quot;red&quot;, &quot;dashArray&quot;: null, &quot;dashOffset&quot;: null, &quot;fill&quot;: true, &quot;fillColor&quot;: &quot;red&quot;, &quot;fillOpacity&quot;: 0.2, &quot;fillRule&quot;: &quot;evenodd&quot;, &quot;lineCap&quot;: &quot;round&quot;, &quot;lineJoin&quot;: &quot;round&quot;, &quot;opacity&quot;: 1.0, &quot;radius&quot;: 50, &quot;stroke&quot;: true, &quot;weight&quot;: 3}\n",
              "            ).addTo(map_ce70a85516f963737709d35e0b1bf505);\n",
              "        \n",
              "    \n",
              "        var popup_4bcee0c35fe60ed0f9cf6be84eba387d = L.popup({&quot;maxWidth&quot;: &quot;100%&quot;});\n",
              "\n",
              "        \n",
              "            \n",
              "                var html_721aff855739d8abb5bac9d0792d0283 = $(`&lt;div id=&quot;html_721aff855739d8abb5bac9d0792d0283&quot; style=&quot;width: 100.0%; height: 100.0%;&quot;&gt;San Francisco&lt;/div&gt;`)[0];\n",
              "                popup_4bcee0c35fe60ed0f9cf6be84eba387d.setContent(html_721aff855739d8abb5bac9d0792d0283);\n",
              "            \n",
              "        \n",
              "\n",
              "        circle_marker_fc4eee73c0381389b78c7391ca87fca5.bindPopup(popup_4bcee0c35fe60ed0f9cf6be84eba387d)\n",
              "        ;\n",
              "\n",
              "        \n",
              "    \n",
              "&lt;/script&gt;\n",
              "&lt;/html&gt;\" style=\"position:absolute;width:100%;height:100%;left:0;top:0;border:none !important;\" allowfullscreen webkitallowfullscreen mozallowfullscreen></iframe></div></div>"
            ]
          },
          "metadata": {},
          "execution_count": 8
        }
      ]
    },
    {
      "cell_type": "code",
      "source": [
        "import folium\n",
        "\n",
        "# Create a map centered around Hyderabad\n",
        "hyderabad_map = folium.Map(location=[17.385044, 78.486671], zoom_start=12)\n",
        "\n",
        "# Add markers for notable landmarks\n",
        "landmarks = {\n",
        "    \"Charminar\": [17.361573, 78.474704],\n",
        "    \"Hussain Sagar Lake\": [17.426583, 78.474445],\n",
        "    \"Golkonda Fort\": [17.385206, 78.401320],\n",
        "    \"Ramoji Film City\": [17.267100, 78.750000],\n",
        "    \"Birla Mandir\": [17.404056, 78.466197],\n",
        "}\n",
        "\n",
        "# Adding markers to the map\n",
        "for landmark, coords in landmarks.items():\n",
        "    folium.Marker(\n",
        "        location=coords,\n",
        "        popup=landmark,\n",
        "        icon=folium.Icon(color='blue')\n",
        "    ).add_to(hyderabad_map)\n",
        "\n",
        "# Add a circle around Hussain Sagar Lake\n",
        "folium.Circle(\n",
        "    radius=500,\n",
        "    location=[17.426583, 78.474445],\n",
        "    color='green',\n",
        "    fill=True,\n",
        "    fill_opacity=0.4,\n",
        ").add_to(hyderabad_map)\n",
        "\n",
        "# Save the map to an HTML file\n",
        "hyderabad_map.save(\"hyderabad_map.html\")\n",
        "\n",
        "# Display the map\n",
        "hyderabad_map\n"
      ],
      "metadata": {
        "id": "mCFV9Pv-eXWB",
        "outputId": "5809b35d-6491-418e-8198-a74d2eb95111",
        "colab": {
          "base_uri": "https://localhost:8080/",
          "height": 395
        }
      },
      "execution_count": null,
      "outputs": [
        {
          "output_type": "execute_result",
          "data": {
            "text/plain": [
              "<folium.folium.Map at 0x7b64362d2950>"
            ],
            "text/html": [
              "<div style=\"width:100%;\"><div style=\"position:relative;width:100%;height:0;padding-bottom:60%;\"><span style=\"color:#565656\">Make this Notebook Trusted to load map: File -> Trust Notebook</span><iframe srcdoc=\"&lt;!DOCTYPE html&gt;\n",
              "&lt;html&gt;\n",
              "&lt;head&gt;\n",
              "    \n",
              "    &lt;meta http-equiv=&quot;content-type&quot; content=&quot;text/html; charset=UTF-8&quot; /&gt;\n",
              "    \n",
              "        &lt;script&gt;\n",
              "            L_NO_TOUCH = false;\n",
              "            L_DISABLE_3D = false;\n",
              "        &lt;/script&gt;\n",
              "    \n",
              "    &lt;style&gt;html, body {width: 100%;height: 100%;margin: 0;padding: 0;}&lt;/style&gt;\n",
              "    &lt;style&gt;#map {position:absolute;top:0;bottom:0;right:0;left:0;}&lt;/style&gt;\n",
              "    &lt;script src=&quot;https://cdn.jsdelivr.net/npm/leaflet@1.9.3/dist/leaflet.js&quot;&gt;&lt;/script&gt;\n",
              "    &lt;script src=&quot;https://code.jquery.com/jquery-3.7.1.min.js&quot;&gt;&lt;/script&gt;\n",
              "    &lt;script src=&quot;https://cdn.jsdelivr.net/npm/bootstrap@5.2.2/dist/js/bootstrap.bundle.min.js&quot;&gt;&lt;/script&gt;\n",
              "    &lt;script src=&quot;https://cdnjs.cloudflare.com/ajax/libs/Leaflet.awesome-markers/2.0.2/leaflet.awesome-markers.js&quot;&gt;&lt;/script&gt;\n",
              "    &lt;link rel=&quot;stylesheet&quot; href=&quot;https://cdn.jsdelivr.net/npm/leaflet@1.9.3/dist/leaflet.css&quot;/&gt;\n",
              "    &lt;link rel=&quot;stylesheet&quot; href=&quot;https://cdn.jsdelivr.net/npm/bootstrap@5.2.2/dist/css/bootstrap.min.css&quot;/&gt;\n",
              "    &lt;link rel=&quot;stylesheet&quot; href=&quot;https://netdna.bootstrapcdn.com/bootstrap/3.0.0/css/bootstrap-glyphicons.css&quot;/&gt;\n",
              "    &lt;link rel=&quot;stylesheet&quot; href=&quot;https://cdn.jsdelivr.net/npm/@fortawesome/fontawesome-free@6.2.0/css/all.min.css&quot;/&gt;\n",
              "    &lt;link rel=&quot;stylesheet&quot; href=&quot;https://cdnjs.cloudflare.com/ajax/libs/Leaflet.awesome-markers/2.0.2/leaflet.awesome-markers.css&quot;/&gt;\n",
              "    &lt;link rel=&quot;stylesheet&quot; href=&quot;https://cdn.jsdelivr.net/gh/python-visualization/folium/folium/templates/leaflet.awesome.rotate.min.css&quot;/&gt;\n",
              "    \n",
              "            &lt;meta name=&quot;viewport&quot; content=&quot;width=device-width,\n",
              "                initial-scale=1.0, maximum-scale=1.0, user-scalable=no&quot; /&gt;\n",
              "            &lt;style&gt;\n",
              "                #map_c532cffec7bfca51ebeae86475d4cdce {\n",
              "                    position: relative;\n",
              "                    width: 100.0%;\n",
              "                    height: 100.0%;\n",
              "                    left: 0.0%;\n",
              "                    top: 0.0%;\n",
              "                }\n",
              "                .leaflet-container { font-size: 1rem; }\n",
              "            &lt;/style&gt;\n",
              "        \n",
              "&lt;/head&gt;\n",
              "&lt;body&gt;\n",
              "    \n",
              "    \n",
              "            &lt;div class=&quot;folium-map&quot; id=&quot;map_c532cffec7bfca51ebeae86475d4cdce&quot; &gt;&lt;/div&gt;\n",
              "        \n",
              "&lt;/body&gt;\n",
              "&lt;script&gt;\n",
              "    \n",
              "    \n",
              "            var map_c532cffec7bfca51ebeae86475d4cdce = L.map(\n",
              "                &quot;map_c532cffec7bfca51ebeae86475d4cdce&quot;,\n",
              "                {\n",
              "                    center: [17.385044, 78.486671],\n",
              "                    crs: L.CRS.EPSG3857,\n",
              "                    zoom: 12,\n",
              "                    zoomControl: true,\n",
              "                    preferCanvas: false,\n",
              "                }\n",
              "            );\n",
              "\n",
              "            \n",
              "\n",
              "        \n",
              "    \n",
              "            var tile_layer_b161e7df6cf75cc0d28eefc1f0348da8 = L.tileLayer(\n",
              "                &quot;https://tile.openstreetmap.org/{z}/{x}/{y}.png&quot;,\n",
              "                {&quot;attribution&quot;: &quot;\\u0026copy; \\u003ca href=\\&quot;https://www.openstreetmap.org/copyright\\&quot;\\u003eOpenStreetMap\\u003c/a\\u003e contributors&quot;, &quot;detectRetina&quot;: false, &quot;maxNativeZoom&quot;: 19, &quot;maxZoom&quot;: 19, &quot;minZoom&quot;: 0, &quot;noWrap&quot;: false, &quot;opacity&quot;: 1, &quot;subdomains&quot;: &quot;abc&quot;, &quot;tms&quot;: false}\n",
              "            );\n",
              "        \n",
              "    \n",
              "            tile_layer_b161e7df6cf75cc0d28eefc1f0348da8.addTo(map_c532cffec7bfca51ebeae86475d4cdce);\n",
              "        \n",
              "    \n",
              "            var marker_e941f689237cb621054baaad97637ff0 = L.marker(\n",
              "                [17.361573, 78.474704],\n",
              "                {}\n",
              "            ).addTo(map_c532cffec7bfca51ebeae86475d4cdce);\n",
              "        \n",
              "    \n",
              "            var icon_6ab1fe06e7e17699ba24a65562df05de = L.AwesomeMarkers.icon(\n",
              "                {&quot;extraClasses&quot;: &quot;fa-rotate-0&quot;, &quot;icon&quot;: &quot;info-sign&quot;, &quot;iconColor&quot;: &quot;white&quot;, &quot;markerColor&quot;: &quot;blue&quot;, &quot;prefix&quot;: &quot;glyphicon&quot;}\n",
              "            );\n",
              "            marker_e941f689237cb621054baaad97637ff0.setIcon(icon_6ab1fe06e7e17699ba24a65562df05de);\n",
              "        \n",
              "    \n",
              "        var popup_bf8983ae89791c9a3581b799e5e4480d = L.popup({&quot;maxWidth&quot;: &quot;100%&quot;});\n",
              "\n",
              "        \n",
              "            \n",
              "                var html_48d41f93a30d9424ddb2bd2c3eac0e8d = $(`&lt;div id=&quot;html_48d41f93a30d9424ddb2bd2c3eac0e8d&quot; style=&quot;width: 100.0%; height: 100.0%;&quot;&gt;Charminar&lt;/div&gt;`)[0];\n",
              "                popup_bf8983ae89791c9a3581b799e5e4480d.setContent(html_48d41f93a30d9424ddb2bd2c3eac0e8d);\n",
              "            \n",
              "        \n",
              "\n",
              "        marker_e941f689237cb621054baaad97637ff0.bindPopup(popup_bf8983ae89791c9a3581b799e5e4480d)\n",
              "        ;\n",
              "\n",
              "        \n",
              "    \n",
              "    \n",
              "            var marker_87b5e3c027f7c027ca72cc32f872743b = L.marker(\n",
              "                [17.426583, 78.474445],\n",
              "                {}\n",
              "            ).addTo(map_c532cffec7bfca51ebeae86475d4cdce);\n",
              "        \n",
              "    \n",
              "            var icon_0aedd8257eaf8e41f1adb0722bd0257c = L.AwesomeMarkers.icon(\n",
              "                {&quot;extraClasses&quot;: &quot;fa-rotate-0&quot;, &quot;icon&quot;: &quot;info-sign&quot;, &quot;iconColor&quot;: &quot;white&quot;, &quot;markerColor&quot;: &quot;blue&quot;, &quot;prefix&quot;: &quot;glyphicon&quot;}\n",
              "            );\n",
              "            marker_87b5e3c027f7c027ca72cc32f872743b.setIcon(icon_0aedd8257eaf8e41f1adb0722bd0257c);\n",
              "        \n",
              "    \n",
              "        var popup_d2599e963a9fa5891dcf7ef74a018afc = L.popup({&quot;maxWidth&quot;: &quot;100%&quot;});\n",
              "\n",
              "        \n",
              "            \n",
              "                var html_c89f0a0d491da9d1889fd2d73d9938ed = $(`&lt;div id=&quot;html_c89f0a0d491da9d1889fd2d73d9938ed&quot; style=&quot;width: 100.0%; height: 100.0%;&quot;&gt;Hussain Sagar Lake&lt;/div&gt;`)[0];\n",
              "                popup_d2599e963a9fa5891dcf7ef74a018afc.setContent(html_c89f0a0d491da9d1889fd2d73d9938ed);\n",
              "            \n",
              "        \n",
              "\n",
              "        marker_87b5e3c027f7c027ca72cc32f872743b.bindPopup(popup_d2599e963a9fa5891dcf7ef74a018afc)\n",
              "        ;\n",
              "\n",
              "        \n",
              "    \n",
              "    \n",
              "            var marker_e197dac358c8840239351fad1761e735 = L.marker(\n",
              "                [17.385206, 78.40132],\n",
              "                {}\n",
              "            ).addTo(map_c532cffec7bfca51ebeae86475d4cdce);\n",
              "        \n",
              "    \n",
              "            var icon_7da86c3b007af6b8ff1ecc69afe52cdf = L.AwesomeMarkers.icon(\n",
              "                {&quot;extraClasses&quot;: &quot;fa-rotate-0&quot;, &quot;icon&quot;: &quot;info-sign&quot;, &quot;iconColor&quot;: &quot;white&quot;, &quot;markerColor&quot;: &quot;blue&quot;, &quot;prefix&quot;: &quot;glyphicon&quot;}\n",
              "            );\n",
              "            marker_e197dac358c8840239351fad1761e735.setIcon(icon_7da86c3b007af6b8ff1ecc69afe52cdf);\n",
              "        \n",
              "    \n",
              "        var popup_141b91c23029fee8ab0c86f3431dd44e = L.popup({&quot;maxWidth&quot;: &quot;100%&quot;});\n",
              "\n",
              "        \n",
              "            \n",
              "                var html_940c38e17c3f9c658cc7391a08b64867 = $(`&lt;div id=&quot;html_940c38e17c3f9c658cc7391a08b64867&quot; style=&quot;width: 100.0%; height: 100.0%;&quot;&gt;Golkonda Fort&lt;/div&gt;`)[0];\n",
              "                popup_141b91c23029fee8ab0c86f3431dd44e.setContent(html_940c38e17c3f9c658cc7391a08b64867);\n",
              "            \n",
              "        \n",
              "\n",
              "        marker_e197dac358c8840239351fad1761e735.bindPopup(popup_141b91c23029fee8ab0c86f3431dd44e)\n",
              "        ;\n",
              "\n",
              "        \n",
              "    \n",
              "    \n",
              "            var marker_07a3ea40e2f338ee456fe5a34fcfa8be = L.marker(\n",
              "                [17.2671, 78.75],\n",
              "                {}\n",
              "            ).addTo(map_c532cffec7bfca51ebeae86475d4cdce);\n",
              "        \n",
              "    \n",
              "            var icon_f42ecf754c7b2ff13af959a19765b9a5 = L.AwesomeMarkers.icon(\n",
              "                {&quot;extraClasses&quot;: &quot;fa-rotate-0&quot;, &quot;icon&quot;: &quot;info-sign&quot;, &quot;iconColor&quot;: &quot;white&quot;, &quot;markerColor&quot;: &quot;blue&quot;, &quot;prefix&quot;: &quot;glyphicon&quot;}\n",
              "            );\n",
              "            marker_07a3ea40e2f338ee456fe5a34fcfa8be.setIcon(icon_f42ecf754c7b2ff13af959a19765b9a5);\n",
              "        \n",
              "    \n",
              "        var popup_2599f1def50184dee008ab5fc2fef91a = L.popup({&quot;maxWidth&quot;: &quot;100%&quot;});\n",
              "\n",
              "        \n",
              "            \n",
              "                var html_c88a5372b1bdae322948de91eb665d15 = $(`&lt;div id=&quot;html_c88a5372b1bdae322948de91eb665d15&quot; style=&quot;width: 100.0%; height: 100.0%;&quot;&gt;Ramoji Film City&lt;/div&gt;`)[0];\n",
              "                popup_2599f1def50184dee008ab5fc2fef91a.setContent(html_c88a5372b1bdae322948de91eb665d15);\n",
              "            \n",
              "        \n",
              "\n",
              "        marker_07a3ea40e2f338ee456fe5a34fcfa8be.bindPopup(popup_2599f1def50184dee008ab5fc2fef91a)\n",
              "        ;\n",
              "\n",
              "        \n",
              "    \n",
              "    \n",
              "            var marker_3b2ee48e97d4a48c98eaef665c01fb5f = L.marker(\n",
              "                [17.404056, 78.466197],\n",
              "                {}\n",
              "            ).addTo(map_c532cffec7bfca51ebeae86475d4cdce);\n",
              "        \n",
              "    \n",
              "            var icon_3fc7fbadcff0619ee6ed4cc081ddad12 = L.AwesomeMarkers.icon(\n",
              "                {&quot;extraClasses&quot;: &quot;fa-rotate-0&quot;, &quot;icon&quot;: &quot;info-sign&quot;, &quot;iconColor&quot;: &quot;white&quot;, &quot;markerColor&quot;: &quot;blue&quot;, &quot;prefix&quot;: &quot;glyphicon&quot;}\n",
              "            );\n",
              "            marker_3b2ee48e97d4a48c98eaef665c01fb5f.setIcon(icon_3fc7fbadcff0619ee6ed4cc081ddad12);\n",
              "        \n",
              "    \n",
              "        var popup_31930d1b378fd986ec09071310682488 = L.popup({&quot;maxWidth&quot;: &quot;100%&quot;});\n",
              "\n",
              "        \n",
              "            \n",
              "                var html_b748dcfa5838eb4284f8b29f34835ef9 = $(`&lt;div id=&quot;html_b748dcfa5838eb4284f8b29f34835ef9&quot; style=&quot;width: 100.0%; height: 100.0%;&quot;&gt;Birla Mandir&lt;/div&gt;`)[0];\n",
              "                popup_31930d1b378fd986ec09071310682488.setContent(html_b748dcfa5838eb4284f8b29f34835ef9);\n",
              "            \n",
              "        \n",
              "\n",
              "        marker_3b2ee48e97d4a48c98eaef665c01fb5f.bindPopup(popup_31930d1b378fd986ec09071310682488)\n",
              "        ;\n",
              "\n",
              "        \n",
              "    \n",
              "    \n",
              "            var circle_65c1689f1d524779895461e7fd91976f = L.circle(\n",
              "                [17.426583, 78.474445],\n",
              "                {&quot;bubblingMouseEvents&quot;: true, &quot;color&quot;: &quot;green&quot;, &quot;dashArray&quot;: null, &quot;dashOffset&quot;: null, &quot;fill&quot;: true, &quot;fillColor&quot;: &quot;green&quot;, &quot;fillOpacity&quot;: 0.4, &quot;fillRule&quot;: &quot;evenodd&quot;, &quot;lineCap&quot;: &quot;round&quot;, &quot;lineJoin&quot;: &quot;round&quot;, &quot;opacity&quot;: 1.0, &quot;radius&quot;: 500, &quot;stroke&quot;: true, &quot;weight&quot;: 3}\n",
              "            ).addTo(map_c532cffec7bfca51ebeae86475d4cdce);\n",
              "        \n",
              "    \n",
              "            tile_layer_b161e7df6cf75cc0d28eefc1f0348da8.addTo(map_c532cffec7bfca51ebeae86475d4cdce);\n",
              "        \n",
              "&lt;/script&gt;\n",
              "&lt;/html&gt;\" style=\"position:absolute;width:100%;height:100%;left:0;top:0;border:none !important;\" allowfullscreen webkitallowfullscreen mozallowfullscreen></iframe></div></div>"
            ]
          },
          "metadata": {},
          "execution_count": 9
        }
      ]
    },
    {
      "cell_type": "code",
      "source": [
        "!pip install aspose-words"
      ],
      "metadata": {
        "id": "WWa4urk1gE_G",
        "outputId": "98b1122a-7114-4007-f774-9c0d8adf5f6a",
        "colab": {
          "base_uri": "https://localhost:8080/"
        }
      },
      "execution_count": null,
      "outputs": [
        {
          "output_type": "stream",
          "name": "stdout",
          "text": [
            "Collecting aspose-words\n",
            "  Downloading aspose_words-24.10.0-py3-none-manylinux1_x86_64.whl.metadata (8.4 kB)\n",
            "Downloading aspose_words-24.10.0-py3-none-manylinux1_x86_64.whl (85.7 MB)\n",
            "\u001b[2K   \u001b[90m━━━━━━━━━━━━━━━━━━━━━━━━━━━━━━━━━━━━━━━━\u001b[0m \u001b[32m85.7/85.7 MB\u001b[0m \u001b[31m7.0 MB/s\u001b[0m eta \u001b[36m0:00:00\u001b[0m\n",
            "\u001b[?25hInstalling collected packages: aspose-words\n",
            "Successfully installed aspose-words-24.10.0\n"
          ]
        }
      ]
    },
    {
      "cell_type": "code",
      "source": [
        "import aspose.words as aw\n",
        "doc = aw.Document(\"Cloclk.pdf\")\n",
        "doc.save(\"output.docx\")"
      ],
      "metadata": {
        "id": "BLqDD_P-fPnX"
      },
      "execution_count": null,
      "outputs": []
    },
    {
      "cell_type": "code",
      "source": [
        "!pip install pdfplumber pands openpyxl"
      ],
      "metadata": {
        "id": "PSLGCObfikfZ",
        "outputId": "e849b571-4486-4975-af2b-26535a67dfbc",
        "colab": {
          "base_uri": "https://localhost:8080/"
        }
      },
      "execution_count": null,
      "outputs": [
        {
          "output_type": "stream",
          "name": "stdout",
          "text": [
            "Collecting pdfplumber\n",
            "  Downloading pdfplumber-0.11.4-py3-none-any.whl.metadata (41 kB)\n",
            "\u001b[?25l     \u001b[90m━━━━━━━━━━━━━━━━━━━━━━━━━━━━━━━━━━━━━━━━\u001b[0m \u001b[32m0.0/42.0 kB\u001b[0m \u001b[31m?\u001b[0m eta \u001b[36m-:--:--\u001b[0m\r\u001b[2K     \u001b[90m━━━━━━━━━━━━━━━━━━━━━━━━━━━━━━━━━━━━━━━━\u001b[0m \u001b[32m42.0/42.0 kB\u001b[0m \u001b[31m1.6 MB/s\u001b[0m eta \u001b[36m0:00:00\u001b[0m\n",
            "\u001b[?25h\u001b[31mERROR: Could not find a version that satisfies the requirement pands (from versions: none)\u001b[0m\u001b[31m\n",
            "\u001b[0m\u001b[31mERROR: No matching distribution found for pands\u001b[0m\u001b[31m\n",
            "\u001b[0m"
          ]
        }
      ]
    },
    {
      "cell_type": "code",
      "source": [
        "import pdfplumber\n",
        "import pandas as pd\n",
        "\n",
        "def pdf_to_excel(pdf_path, excel_path):\n",
        "  with pdfplumber.open(pdf_path) as pdf:\n",
        "    all_tables = []\n",
        "    for page in pdf.pages:\n",
        "      tables = page.extract_table()\n",
        "      for table in tables:\n",
        "        if table:\n",
        "          df = pd.DataFrame(table)\n",
        "          all_tables.append(df)\n",
        "    if not all_tables:\n",
        "      all_tables.append(pd.DataFrame([\"No tables found\"]))\n",
        "\n",
        "  with pd.ExcelWriter(excel_file, engine ='openpyxl') as writer:\n",
        "    for idx, df in enumerate(all_tables):\n",
        "      df.to_excel(writer, sheet_name = f'Sheet{idx+1}', index = False)\n",
        "\n",
        "pdf_to_excel('clcock.pdf', 'know.xlsx')\n",
        "\n"
      ],
      "metadata": {
        "id": "2TqazcK4gL1r",
        "outputId": "ea17a58e-6208-4e4f-d481-f7138fe0dd97",
        "colab": {
          "base_uri": "https://localhost:8080/",
          "height": 387
        }
      },
      "execution_count": null,
      "outputs": [
        {
          "output_type": "error",
          "ename": "ModuleNotFoundError",
          "evalue": "No module named 'pdfplumber'",
          "traceback": [
            "\u001b[0;31m---------------------------------------------------------------------------\u001b[0m",
            "\u001b[0;31mModuleNotFoundError\u001b[0m                       Traceback (most recent call last)",
            "\u001b[0;32m<ipython-input-14-cd9bc1ff805d>\u001b[0m in \u001b[0;36m<cell line: 1>\u001b[0;34m()\u001b[0m\n\u001b[0;32m----> 1\u001b[0;31m \u001b[0;32mimport\u001b[0m \u001b[0mpdfplumber\u001b[0m\u001b[0;34m\u001b[0m\u001b[0;34m\u001b[0m\u001b[0m\n\u001b[0m\u001b[1;32m      2\u001b[0m \u001b[0;32mimport\u001b[0m \u001b[0mpandas\u001b[0m \u001b[0;32mas\u001b[0m \u001b[0mpd\u001b[0m\u001b[0;34m\u001b[0m\u001b[0;34m\u001b[0m\u001b[0m\n\u001b[1;32m      3\u001b[0m \u001b[0;34m\u001b[0m\u001b[0m\n\u001b[1;32m      4\u001b[0m \u001b[0;32mdef\u001b[0m \u001b[0mpdf_to_excel\u001b[0m\u001b[0;34m(\u001b[0m\u001b[0mpdf_path\u001b[0m\u001b[0;34m,\u001b[0m \u001b[0mexcel_path\u001b[0m\u001b[0;34m)\u001b[0m\u001b[0;34m:\u001b[0m\u001b[0;34m\u001b[0m\u001b[0;34m\u001b[0m\u001b[0m\n\u001b[1;32m      5\u001b[0m   \u001b[0;32mwith\u001b[0m \u001b[0mpdfplumber\u001b[0m\u001b[0;34m.\u001b[0m\u001b[0mopen\u001b[0m\u001b[0;34m(\u001b[0m\u001b[0mpdf_path\u001b[0m\u001b[0;34m)\u001b[0m \u001b[0;32mas\u001b[0m \u001b[0mpdf\u001b[0m\u001b[0;34m:\u001b[0m\u001b[0;34m\u001b[0m\u001b[0;34m\u001b[0m\u001b[0m\n",
            "\u001b[0;31mModuleNotFoundError\u001b[0m: No module named 'pdfplumber'",
            "",
            "\u001b[0;31m---------------------------------------------------------------------------\u001b[0;32m\nNOTE: If your import is failing due to a missing package, you can\nmanually install dependencies using either !pip or !apt.\n\nTo view examples of installing some common dependencies, click the\n\"Open Examples\" button below.\n\u001b[0;31m---------------------------------------------------------------------------\u001b[0m\n"
          ],
          "errorDetails": {
            "actions": [
              {
                "action": "open_url",
                "actionText": "Open Examples",
                "url": "/notebooks/snippets/importing_libraries.ipynb"
              }
            ]
          }
        }
      ]
    },
    {
      "cell_type": "code",
      "source": [
        "X,Y = 10, 20\n",
        "\n",
        "b1 = bin(X)\n",
        "b2 = bin(Y)\n",
        "print(b1,b2)\n",
        "# b3 = b1^b2\n",
        "# print(b3)\n",
        "\n",
        "b3 = int(b1,2)^int(b2,2)\n",
        "print(b3)\n",
        "\n",
        "X = X^Y\n",
        "print(X)\n",
        "Y = X^Y\n",
        "print(Y)\n",
        "X = X^Y\n",
        "print(X,Y)"
      ],
      "metadata": {
        "id": "_qlmC9Phif8J",
        "outputId": "5f39a9a9-3183-4374-cd27-7cdd89ecb6b0",
        "colab": {
          "base_uri": "https://localhost:8080/"
        }
      },
      "execution_count": null,
      "outputs": [
        {
          "output_type": "stream",
          "name": "stdout",
          "text": [
            "0b1010 0b10100\n",
            "30\n",
            "30\n",
            "10\n",
            "20 10\n"
          ]
        }
      ]
    },
    {
      "cell_type": "code",
      "source": [
        "x = bin(X)\n",
        "Y = bin(Y)\n",
        "print(x,Y)\n",
        "print(x)"
      ],
      "metadata": {
        "id": "Vs362c4jJl9y",
        "outputId": "791a5387-b8bb-40f0-b298-54e74b0f6c46",
        "colab": {
          "base_uri": "https://localhost:8080/"
        }
      },
      "execution_count": null,
      "outputs": [
        {
          "output_type": "stream",
          "name": "stdout",
          "text": [
            "0b10100 0b1010\n",
            "0b10100\n"
          ]
        }
      ]
    },
    {
      "cell_type": "code",
      "source": [
        "X,Y = 10, 10\n",
        "print(X,Y)\n",
        "print(id(X), id(Y))\n",
        "X,Y = Y,X\n",
        "print(X,Y)\n",
        "print(id(X), id(Y))"
      ],
      "metadata": {
        "id": "56-XiiXYOZfl",
        "outputId": "8979e45c-e09a-4e5f-d8f6-300f580a51c4",
        "colab": {
          "base_uri": "https://localhost:8080/"
        }
      },
      "execution_count": null,
      "outputs": [
        {
          "output_type": "stream",
          "name": "stdout",
          "text": [
            "10 10\n",
            "136913427431952 136913427431952\n",
            "10 10\n",
            "136913427431952 136913427431952\n"
          ]
        }
      ]
    },
    {
      "cell_type": "code",
      "source": [
        "X = 10\n",
        "Y = 10\n",
        "print(id(X), id(Y))"
      ],
      "metadata": {
        "id": "ABPp5CLb_hw9",
        "outputId": "6f3bfcf2-7164-4528-decc-2845634c1805",
        "colab": {
          "base_uri": "https://localhost:8080/"
        }
      },
      "execution_count": null,
      "outputs": [
        {
          "output_type": "stream",
          "name": "stdout",
          "text": [
            "139691583341072 139691583341072\n"
          ]
        }
      ]
    },
    {
      "cell_type": "markdown",
      "source": [
        " Python doesn't have strict fixed ranges for most of these types due to its dynamic nature"
      ],
      "metadata": {
        "id": "o2ADNVE3A-Om"
      }
    },
    {
      "cell_type": "code",
      "source": [
        "import sys\n",
        "print(sys.float_info.max)     # Largest float value\n",
        "print(sys.float_info.min)     # Smallest positive float value\n"
      ],
      "metadata": {
        "id": "WsXMT7fvA06P",
        "outputId": "cc047f27-f6e0-4bcc-b989-c82416e4745f",
        "colab": {
          "base_uri": "https://localhost:8080/"
        }
      },
      "execution_count": null,
      "outputs": [
        {
          "output_type": "stream",
          "name": "stdout",
          "text": [
            "1.7976931348623157e+308\n",
            "2.2250738585072014e-308\n"
          ]
        }
      ]
    },
    {
      "cell_type": "code",
      "source": [
        "import sys\n",
        "print(sys.maxsize)"
      ],
      "metadata": {
        "id": "MCAf-m2pASkQ",
        "outputId": "124ccd11-ad8a-47ae-8178-321eb3a9247b",
        "colab": {
          "base_uri": "https://localhost:8080/"
        }
      },
      "execution_count": null,
      "outputs": [
        {
          "output_type": "stream",
          "name": "stdout",
          "text": [
            "9223372036854775807\n"
          ]
        }
      ]
    },
    {
      "cell_type": "code",
      "source": [
        "X = 10\n",
        "Y = 20\n",
        "print(id(X), id(Y))"
      ],
      "metadata": {
        "id": "VNxMTP1A_3Nc",
        "outputId": "d51e6a84-47ca-4f4d-911a-22b9bd6a2586",
        "colab": {
          "base_uri": "https://localhost:8080/"
        }
      },
      "execution_count": null,
      "outputs": [
        {
          "output_type": "stream",
          "name": "stdout",
          "text": [
            "139691583341072 139691583341392\n"
          ]
        }
      ]
    },
    {
      "cell_type": "code",
      "source": [
        "X,Y = 10, 20\n",
        "print(X,Y)\n",
        "print(id(X), id(Y))\n",
        "X,Y = Y,X\n",
        "print(X,Y)\n",
        "print(id(X), id(Y))"
      ],
      "metadata": {
        "id": "HpiNd66hKBCj",
        "outputId": "1d0e721c-e26c-45d4-f23a-27e250b564ba",
        "colab": {
          "base_uri": "https://localhost:8080/"
        }
      },
      "execution_count": null,
      "outputs": [
        {
          "output_type": "stream",
          "name": "stdout",
          "text": [
            "10 20\n",
            "136913427431952 136913427432272\n",
            "20 10\n",
            "136913427432272 136913427431952\n"
          ]
        }
      ]
    },
    {
      "cell_type": "code",
      "source": [
        "X= 10\n",
        "Y = 20\n",
        "print(X,Y)\n",
        "print(id(X), id(Y))\n",
        "X,Y = Y,X\n",
        "print(X,Y)\n",
        "print(id(X), id(Y))"
      ],
      "metadata": {
        "id": "ASGXS_QfOOia",
        "outputId": "f6020016-334e-4389-f1d8-a4f1ca4b9d71",
        "colab": {
          "base_uri": "https://localhost:8080/"
        }
      },
      "execution_count": null,
      "outputs": [
        {
          "output_type": "stream",
          "name": "stdout",
          "text": [
            "10 20\n",
            "136913427431952 136913427432272\n",
            "20 10\n",
            "136913427432272 136913427431952\n"
          ]
        }
      ]
    },
    {
      "cell_type": "code",
      "source": [
        "X,Y = 10, 20\n",
        "print(X,Y)\n",
        "print(id(X), id(Y))\n",
        "temp = X\n",
        "X = Y\n",
        "Y = temp\n",
        "print(X,Y)\n",
        "print(id(X), id(Y))"
      ],
      "metadata": {
        "id": "LotRp_gyO7Dq",
        "outputId": "2aafb894-6ca6-4fb2-8302-c59199918f99",
        "colab": {
          "base_uri": "https://localhost:8080/"
        }
      },
      "execution_count": null,
      "outputs": [
        {
          "output_type": "stream",
          "name": "stdout",
          "text": [
            "10 20\n",
            "136913427431952 136913427432272\n",
            "20 10\n",
            "136913427432272 136913427431952\n"
          ]
        }
      ]
    },
    {
      "cell_type": "code",
      "source": [
        "x,y = 10,20\n",
        "x = x+y\n",
        "y = x-y\n",
        "x = x-y\n",
        "print(x,y)"
      ],
      "metadata": {
        "id": "46lenpmCPPXT",
        "outputId": "2a949052-1d9f-4315-8a8c-23d12f448eff",
        "colab": {
          "base_uri": "https://localhost:8080/"
        }
      },
      "execution_count": null,
      "outputs": [
        {
          "output_type": "stream",
          "name": "stdout",
          "text": [
            "20 10\n"
          ]
        }
      ]
    },
    {
      "cell_type": "code",
      "source": [
        "x,y = 10,20\n",
        "x = x*y\n",
        "y = x//y\n",
        "x= x//y\n",
        "print(x,y)"
      ],
      "metadata": {
        "id": "To5BWqSsPr2q",
        "outputId": "b2d0c52d-b483-470a-b1d6-bbfe01002b20",
        "colab": {
          "base_uri": "https://localhost:8080/"
        }
      },
      "execution_count": null,
      "outputs": [
        {
          "output_type": "stream",
          "name": "stdout",
          "text": [
            "20 10\n"
          ]
        }
      ]
    },
    {
      "cell_type": "code",
      "source": [
        "x,y = 20,10\n",
        "x = (x&y)+(x|y)\n",
        "y = x + (~y) + 1\n",
        "x = x + (~y)+1\n",
        "print(x,y)\n",
        "\n",
        "x = x^y\n",
        "y = x^y\n",
        "x = x^y\n",
        "print(x,y)\n",
        "\n",
        "x = x+y\n",
        "y = x-y\n",
        "x = x-y\n",
        "print(x,y)\n",
        "\n",
        "x = x*y\n",
        "y = x//y\n",
        "x = x//y\n",
        "print(x,y)\n"
      ],
      "metadata": {
        "id": "GLR_5s69RKkp",
        "outputId": "984769bf-62f8-4727-8e48-0898a935bb01",
        "colab": {
          "base_uri": "https://localhost:8080/"
        }
      },
      "execution_count": null,
      "outputs": [
        {
          "output_type": "stream",
          "name": "stdout",
          "text": [
            "10 20\n",
            "20 10\n",
            "10 20\n",
            "20 10\n"
          ]
        }
      ]
    },
    {
      "cell_type": "code",
      "source": [
        "class Stack:\n",
        "  def __init__(self):\n",
        "    self.items = []\n",
        "\n",
        "  def is_empty(self):\n",
        "    return len(self.items) == 0\n",
        "\n",
        "  def push(self, item):\n",
        "    self.items.append(item)\n",
        "\n",
        "  def pop(self):\n",
        "    if self.is_empty():\n",
        "      raise IndexError(\"Pop frem empty stack\")\n",
        "    return self.items.pop()\n",
        "\n",
        "  def peek(self):\n",
        "    if self.is_empty():\n",
        "      raise IndexError(\"peek from empty stack\")\n",
        "    return self.items[-1]\n",
        "\n",
        "  def size(self):\n",
        "    return len(self.items)\n",
        "\n",
        "  def __str__(self):\n",
        "    return str(self.items)"
      ],
      "metadata": {
        "id": "sJgq9wn4TSc6"
      },
      "execution_count": null,
      "outputs": []
    },
    {
      "cell_type": "code",
      "source": [
        "!pip install emoji"
      ],
      "metadata": {
        "id": "26VWZktsoHQt",
        "outputId": "c707f4dc-d47b-441c-cce9-e8efc30ebac7",
        "colab": {
          "base_uri": "https://localhost:8080/"
        }
      },
      "execution_count": null,
      "outputs": [
        {
          "output_type": "stream",
          "name": "stdout",
          "text": [
            "Collecting emoji\n",
            "  Downloading emoji-2.14.0-py3-none-any.whl.metadata (5.7 kB)\n",
            "Downloading emoji-2.14.0-py3-none-any.whl (586 kB)\n",
            "\u001b[?25l   \u001b[90m━━━━━━━━━━━━━━━━━━━━━━━━━━━━━━━━━━━━━━━━\u001b[0m \u001b[32m0.0/586.9 kB\u001b[0m \u001b[31m?\u001b[0m eta \u001b[36m-:--:--\u001b[0m\r\u001b[2K   \u001b[91m━━━━━━━━━━━━━\u001b[0m\u001b[91m╸\u001b[0m\u001b[90m━━━━━━━━━━━━━━━━━━━━━━━━━━\u001b[0m \u001b[32m204.8/586.9 kB\u001b[0m \u001b[31m6.6 MB/s\u001b[0m eta \u001b[36m0:00:01\u001b[0m\r\u001b[2K   \u001b[90m━━━━━━━━━━━━━━━━━━━━━━━━━━━━━━━━━━━━━━━━\u001b[0m \u001b[32m586.9/586.9 kB\u001b[0m \u001b[31m9.9 MB/s\u001b[0m eta \u001b[36m0:00:00\u001b[0m\n",
            "\u001b[?25hInstalling collected packages: emoji\n",
            "Successfully installed emoji-2.14.0\n"
          ]
        }
      ]
    },
    {
      "cell_type": "code",
      "source": [
        "import emoji\n",
        "\n",
        "def text_to_emoji(text):\n",
        "  return emoji.emojize(text)\n",
        "\n",
        "input_text = input(\"Enter text with emoji aliases : \")\n",
        "converted_text = text_to_emoji(input_text)\n",
        "\n",
        "print(\"converted text with emoji\", converted_text)"
      ],
      "metadata": {
        "colab": {
          "base_uri": "https://localhost:8080/"
        },
        "id": "MXUCvhQ_qCus",
        "outputId": "58af0612-42c2-46cd-f5f7-68742f74a6f3"
      },
      "execution_count": null,
      "outputs": [
        {
          "output_type": "stream",
          "name": "stdout",
          "text": [
            "Enter text with emoji aliases : cry\n",
            "converted text with emoji cry\n"
          ]
        }
      ]
    },
    {
      "cell_type": "code",
      "source": [
        "list1 = [\"Mike\", \"\", \"Emma\", \"Kelly\", \"\", \"Brad\"]\n",
        "\n",
        "# Initialize an empty list to store non-empty strings\n",
        "filtered_list = []\n",
        "\n",
        "# Iterate through each item in the list and check if it is non-empty\n",
        "for item in list1:\n",
        "    if item:  # This checks if item is not an empty string\n",
        "        filtered_list.append(item)\n",
        "\n",
        "print(\"List without empty strings:\", filtered_list)\n",
        "\n",
        "\n",
        "\n",
        "list1 = [\"Mike\", \"\", \"Emma\", \"Kelly\", \"\", \"Brad\"]\n",
        "\n",
        "filtered_list = [item for item in list1 if item]\n",
        "print(\"List without empty strings:\", filtered_list)\n",
        "\n",
        "\n",
        "list1 = [\"Hello \", \"take \"]\n",
        "list2 = [\"Dear\", \"Sir\"]\n",
        "\n",
        "concatenated_list = [a + b for a in list1 for b in list2]\n",
        "print(\"All possible concatenations:\", concatenated_list)\n",
        "\n",
        "\n",
        "list1 = [\"Hello \", \"take \"]\n",
        "list2 = [\"Dear\", \"Sir\"]\n",
        "\n",
        "# Initialize an empty list to store the result\n",
        "concatenated_list = []\n",
        "\n",
        "# Use nested for loops to concatenate each element\n",
        "for a in list1:\n",
        "    for b in list2:\n",
        "        concatenated_list.append(a + b)\n",
        "\n",
        "print(\"All possible concatenations:\", concatenated_list)\n",
        "\n",
        "\n",
        "list1 = [\"Hello \", \"take \"]\n",
        "list2 = [\"Dear\", \"Sir\"]\n",
        "\n",
        "concatenated_list = [a + b for a in list1 for b in list2]\n",
        "print(\"All possible concatenations:\", concatenated_list)\n",
        "\n",
        "\n",
        "list1 = [\"M\", \"na\", \"i\", \"Ke\"]\n",
        "list2 = [\"y\", \"me\", \"s\", \"lly\"]\n",
        "\n",
        "# Initialize an empty list to store the result\n",
        "concatenated_list = []\n",
        "\n",
        "# Use a for loop with range to iterate by index\n",
        "for i in range(len(list1)):\n",
        "    concatenated_list.append(list1[i] + list2[i])\n",
        "\n",
        "print(\"Concatenated index-wise:\", concatenated_list)\n",
        "\n",
        "list1 = [\"M\", \"na\", \"i\", \"Ke\"]\n",
        "list2 = [\"y\", \"me\", \"s\", \"lly\"]\n",
        "\n",
        "concatenated_list = [a + b for a, b in zip(list1, list2)]\n",
        "print(\"Concatenated index-wise:\", concatenated_list)\n",
        "\n",
        "\n",
        "def remove_duplicates(numbers):\n",
        "    return list(set(numbers))\n",
        "\n",
        "# Example usage\n",
        "numbers = [1, 2, 2, 3, 4, 4, 5]\n",
        "print(\"List without duplicates:\", remove_duplicates(numbers))\n",
        "\n",
        "\n",
        "def sum_of_unique(numbers):\n",
        "    return sum(set(numbers))\n",
        "\n",
        "# Example usage\n",
        "numbers = [1, 2, 2, 3, 4, 4, 5]\n",
        "print(\"Sum of all unique numbers:\", sum_of_unique(numbers))\n",
        "\n",
        "\n",
        "\n",
        "\n",
        "def reverse_string(s):\n",
        "    return s[::-1]\n",
        "\n",
        "# Example usage\n",
        "s = \"hello\"\n",
        "print(\"Reversed string:\", reverse_string(s))\n",
        "\n",
        "\n",
        "\n",
        "def is_palindrome(s):\n",
        "    return s == s[::-1]\n",
        "\n",
        "# Example usage\n",
        "s = \"racecar\"\n",
        "print(\"Is palindrome:\", is_palindrome(s))\n"
      ],
      "metadata": {
        "id": "ErXsrEXDoCBt",
        "outputId": "952934f8-9861-4d21-f472-dc68b206583b",
        "colab": {
          "base_uri": "https://localhost:8080/"
        }
      },
      "execution_count": null,
      "outputs": [
        {
          "output_type": "stream",
          "name": "stdout",
          "text": [
            "List without empty strings: ['Mike', 'Emma', 'Kelly', 'Brad']\n",
            "List without empty strings: ['Mike', 'Emma', 'Kelly', 'Brad']\n",
            "All possible concatenations: ['Hello Dear', 'Hello Sir', 'take Dear', 'take Sir']\n",
            "All possible concatenations: ['Hello Dear', 'Hello Sir', 'take Dear', 'take Sir']\n",
            "All possible concatenations: ['Hello Dear', 'Hello Sir', 'take Dear', 'take Sir']\n",
            "Concatenated index-wise: ['My', 'name', 'is', 'Kelly']\n",
            "Concatenated index-wise: ['My', 'name', 'is', 'Kelly']\n",
            "List without duplicates: [1, 2, 3, 4, 5]\n",
            "Sum of all unique numbers: 15\n",
            "Reversed string: olleh\n",
            "Is palindrome: True\n"
          ]
        }
      ]
    },
    {
      "cell_type": "code",
      "source": [
        "\n",
        "def is_prime(n):\n",
        "    if n <= 1:\n",
        "        return False\n",
        "    for i in range(2, int(n**0.5) + 1):\n",
        "        if n % i == 0:\n",
        "            return False\n",
        "    return True\n",
        "\n",
        "# Example\n",
        "print(is_prime(9))  # Output: True\n",
        "print(is_prime(3))  # Output: False"
      ],
      "metadata": {
        "colab": {
          "base_uri": "https://localhost:8080/"
        },
        "id": "t72S9zYC8CuF",
        "outputId": "8d65245a-3f39-4483-e845-3eaa935e578f"
      },
      "execution_count": null,
      "outputs": [
        {
          "output_type": "stream",
          "name": "stdout",
          "text": [
            "False\n",
            "True\n"
          ]
        }
      ]
    },
    {
      "cell_type": "code",
      "source": [
        "def find_max(lst):\n",
        "    max_value = lst[0]\n",
        "    for num in lst:\n",
        "        if num > max_value:\n",
        "            max_value = num\n",
        "    return max_value\n",
        "\n",
        "def find_min(lst):\n",
        "    min_value = lst[0]\n",
        "    for num in lst:\n",
        "        if num < min_value:\n",
        "            min_value = num\n",
        "    return min_value\n",
        "\n",
        "# Example usage\n",
        "lst = [3, 5, 2, 9, 1]\n",
        "print(\"Max:\", find_max(lst))\n",
        "print(\"Min:\", find_min(lst))\n"
      ],
      "metadata": {
        "id": "ecxJSl6w8tU-"
      },
      "execution_count": null,
      "outputs": []
    },
    {
      "cell_type": "code",
      "source": [
        "a=1\n",
        "print(\"a=\",a)\n",
        "\n",
        "a+=1\n",
        "print(\"a+=1 \",a) # a= a+1\n",
        "\n",
        "a-=1\n",
        "print(\"a-=1 \",a) #a = a -1\n",
        "\n",
        "a*=2\n",
        "print(\"a*=2 \",a)# a = a*2\n",
        "print(a)\n",
        "\n",
        "# python does not support post increment\n",
        "# a =+1\n",
        "# print(a)\n",
        "# a =-1\n",
        "# print(a)\n",
        "\n",
        "\n",
        "a/=4\n",
        "print(\"a/=4 \",a)# a = a/4\n",
        "\n",
        "a//=3\n",
        "print(\"a//=3 \",a) # a= a//3\n",
        "\n",
        "a=4\n",
        "a%=3\n",
        "print(\"a%=3 \",a) # a = a%3\n",
        "\n",
        "a=4\n",
        "a**=2\n",
        "print(\"a**=2 \",a)# a= a**2"
      ],
      "metadata": {
        "id": "KLb0_vW1Kaq9",
        "colab": {
          "base_uri": "https://localhost:8080/"
        },
        "outputId": "f2b499f7-890d-44fb-e100-55ed565564a4"
      },
      "execution_count": null,
      "outputs": [
        {
          "output_type": "stream",
          "name": "stdout",
          "text": [
            "a= 1\n",
            "a+=1  2\n",
            "a-=1  1\n",
            "a*=2  2\n",
            "2\n",
            "a/=4  0.5\n",
            "a//=3  0.0\n",
            "a%=3  1\n",
            "a**=2  16\n"
          ]
        }
      ]
    },
    {
      "cell_type": "code",
      "source": [
        "print(5-2)\n",
        "print(10-5/5)\n",
        "print(2*(3-1))\n",
        "print((1+1)**(-2))\n",
        "print(2**1+1)\n",
        "print(3*1**3)\n",
        "print(2 ** 3 ** 2)  # exponentiation is right associative\n",
        "print(45 % 10 / 2)\n",
        "\n",
        "print(3**1 + 2**2**2)"
      ],
      "metadata": {
        "colab": {
          "base_uri": "https://localhost:8080/"
        },
        "id": "l-s63geZJ6H2",
        "outputId": "4edacb28-6d75-4a34-f6b8-978b3cf99e9d"
      },
      "execution_count": null,
      "outputs": [
        {
          "output_type": "stream",
          "name": "stdout",
          "text": [
            "3\n",
            "9.0\n",
            "4\n",
            "0.25\n",
            "3\n",
            "3\n",
            "512\n",
            "2.5\n",
            "19\n"
          ]
        }
      ]
    },
    {
      "cell_type": "code",
      "source": [
        "nums = [2, 7, 11, 15]\n",
        "target = 9\n",
        "for i, num in enumerate(nums):\n",
        "  print(i, num)"
      ],
      "metadata": {
        "id": "1_hlbg8xKMZK",
        "colab": {
          "base_uri": "https://localhost:8080/"
        },
        "outputId": "01c13128-3646-41a7-c2be-6c4844ed162d"
      },
      "execution_count": 11,
      "outputs": [
        {
          "output_type": "stream",
          "name": "stdout",
          "text": [
            "0 2\n",
            "1 7\n",
            "2 11\n",
            "3 15\n"
          ]
        }
      ]
    },
    {
      "cell_type": "code",
      "source": [
        "def twoSum(nums, target):\n",
        "  dic = {}\n",
        "  for i, num in enumerate(nums):\n",
        "    com = target-num\n",
        "    if com in dic:\n",
        "      return [dic[com],i]\n",
        "    dic[num] = i\n",
        "  return []\n",
        "\n",
        "\n",
        "\n",
        "nums = [2, 7, 11, 15]\n",
        "target = 9\n",
        "x = twoSum(nums,target)\n",
        "print(x)\n",
        ""
      ],
      "metadata": {
        "colab": {
          "base_uri": "https://localhost:8080/"
        },
        "id": "w55FMlwyQVOM",
        "outputId": "469a42a4-3104-41bf-86ae-a063178faa9f"
      },
      "execution_count": 19,
      "outputs": [
        {
          "output_type": "stream",
          "name": "stdout",
          "text": [
            "[0, 1]\n"
          ]
        }
      ]
    },
    {
      "cell_type": "code",
      "source": [
        "def twoSum(nums, target): # Remove 'self' from the function parameters\n",
        "    dic = {}\n",
        "    for i, num in enumerate(nums):\n",
        "        if target - num in dic:\n",
        "            return [dic[target - num], i] # Return the index of the complement\n",
        "        dic[num] = i\n",
        "    return []\n",
        "\n",
        "nums = [2, 7, 11, 15]\n",
        "target = 9\n",
        "x = twoSum(nums, target) # Call the function without 'self'\n",
        "print(x)"
      ],
      "metadata": {
        "id": "MUY33qDTYNkl",
        "outputId": "7a0ad10d-dd92-410f-92dc-c845821186f7",
        "colab": {
          "base_uri": "https://localhost:8080/"
        }
      },
      "execution_count": 17,
      "outputs": [
        {
          "output_type": "stream",
          "name": "stdout",
          "text": [
            "[0, 1]\n"
          ]
        }
      ]
    },
    {
      "cell_type": "code",
      "source": [],
      "metadata": {
        "id": "fJI3Gxkhe3Gz"
      },
      "execution_count": null,
      "outputs": []
    }
  ]
}