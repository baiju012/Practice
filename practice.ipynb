{
  "nbformat": 4,
  "nbformat_minor": 0,
  "metadata": {
    "colab": {
      "provenance": [],
      "authorship_tag": "ABX9TyNU2Tp9KaVxlAFbo1BY4U77",
      "include_colab_link": true
    },
    "kernelspec": {
      "name": "python3",
      "display_name": "Python 3"
    },
    "language_info": {
      "name": "python"
    }
  },
  "cells": [
    {
      "cell_type": "markdown",
      "metadata": {
        "id": "view-in-github",
        "colab_type": "text"
      },
      "source": [
        "<a href=\"https://colab.research.google.com/github/baiju012/Practice/blob/main/practice.ipynb\" target=\"_parent\"><img src=\"https://colab.research.google.com/assets/colab-badge.svg\" alt=\"Open In Colab\"/></a>"
      ]
    },
    {
      "cell_type": "code",
      "execution_count": 4,
      "metadata": {
        "id": "7K6Vzem9kR-I",
        "outputId": "2524ab3c-1bac-4a3e-96c3-d6c830a6f165",
        "colab": {
          "base_uri": "https://localhost:8080/"
        }
      },
      "outputs": [
        {
          "output_type": "stream",
          "name": "stdout",
          "text": [
            "7\n"
          ]
        }
      ],
      "source": [
        "def add(a, b=4):\n",
        "    return (a+b)\n",
        "\n",
        "\n",
        "print(add( 4,3))\n"
      ]
    },
    {
      "cell_type": "code",
      "source": [
        "#first shold be defult than agrument\n",
        "def add(a=4, b):\n",
        "  return (a+b)\n",
        "\n",
        "print(add(4,2))"
      ],
      "metadata": {
        "id": "sKT2w4_tk-3X"
      },
      "execution_count": null,
      "outputs": []
    }
  ]
}